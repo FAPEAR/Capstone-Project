{
 "cells": [
  {
   "cell_type": "markdown",
   "metadata": {},
   "source": [
    "# Sparkify Project Workspace\n",
    "This workspace contains a tiny subset (128MB) of the full dataset available (12GB). Feel free to use this workspace to build your project, or to explore a smaller subset with Spark before deploying your cluster on the cloud. Instructions for setting up your Spark cluster is included in the last lesson of the Extracurricular Spark Course content.\n",
    "\n",
    "You can follow the steps below to guide your data analysis and model building portion of this project."
   ]
  },
  {
   "cell_type": "code",
   "execution_count": 1,
   "metadata": {},
   "outputs": [],
   "source": [
    "# import libraries\n",
    "#This code imports various libraries and classes necessary for data analysis and machine learning using Apache Spark.\n",
    "import pandas as pd\n",
    "import matplotlib.pyplot as plt\n",
    "import seaborn as sns\n",
    "from pyspark.sql import SparkSession\n",
    "from pyspark.sql.functions import avg, col, concat, count, desc, explode, lit, min, max, split, stddev, udf\n",
    "from pyspark.sql.types import IntegerType, StringType\n",
    "from pyspark.ml import Pipeline\n",
    "from pyspark.ml.classification import LogisticRegression\n",
    "from pyspark.ml.evaluation import MulticlassClassificationEvaluator\n",
    "from pyspark.ml.feature import CountVectorizer, IDF, Normalizer, PCA, RegexTokenizer, StandardScaler, StopWordsRemover, StringIndexer, VectorAssembler\n",
    "from pyspark.ml.regression import LinearRegression\n",
    "from pyspark.ml.tuning import CrossValidator, ParamGridBuilder\n",
    "from pyspark.ml.feature import MinMaxScaler\n",
    "from pyspark.ml.feature import VectorAssembler\n",
    "from pyspark.ml.classification import LogisticRegression\n",
    "from pyspark.ml.evaluation import BinaryClassificationEvaluator\n",
    "from pyspark.mllib.tree import RandomForest, RandomForestModel\n",
    "from pyspark.ml.classification import RandomForestClassifier\n",
    "from pyspark.ml.classification import GBTClassifier"
   ]
  },
  {
   "cell_type": "code",
   "execution_count": 2,
   "metadata": {},
   "outputs": [],
   "source": [
    "# Retrieves an existing SparkSession or creates a new one if it doesn't exist. This ensures that only one SparkSession is active per JVM (Java Virtual Machine).\n",
    "spark = SparkSession.builder \\\n",
    "    .appName(\"Capstone Project\") \\\n",
    "    .getOrCreate()\n",
    "\n",
    "# Reads the JSON data from the specified file into a DataFrame.\n",
    "sparkify_data = 'mini_sparkify_event_data.json'\n",
    "df = spark.read.format(\"json\").load(sparkify_data)"
   ]
  },
  {
   "cell_type": "markdown",
   "metadata": {},
   "source": [
    "# Load and Clean Dataset\n",
    "In this workspace, the mini-dataset file is `mini_sparkify_event_data.json`. Load and clean the dataset, checking for invalid or missing data - for example, records without userids or sessionids. "
   ]
  },
  {
   "cell_type": "code",
   "execution_count": 3,
   "metadata": {
    "scrolled": false
   },
   "outputs": [
    {
     "name": "stdout",
     "output_type": "stream",
     "text": [
      "root\n",
      " |-- artist: string (nullable = true)\n",
      " |-- auth: string (nullable = true)\n",
      " |-- firstName: string (nullable = true)\n",
      " |-- gender: string (nullable = true)\n",
      " |-- itemInSession: long (nullable = true)\n",
      " |-- lastName: string (nullable = true)\n",
      " |-- length: double (nullable = true)\n",
      " |-- level: string (nullable = true)\n",
      " |-- location: string (nullable = true)\n",
      " |-- method: string (nullable = true)\n",
      " |-- page: string (nullable = true)\n",
      " |-- registration: long (nullable = true)\n",
      " |-- sessionId: long (nullable = true)\n",
      " |-- song: string (nullable = true)\n",
      " |-- status: long (nullable = true)\n",
      " |-- ts: long (nullable = true)\n",
      " |-- userAgent: string (nullable = true)\n",
      " |-- userId: string (nullable = true)\n",
      "\n"
     ]
    }
   ],
   "source": [
    "#It is used to show the structure of the DataFrame in the form of a tree\n",
    "df.printSchema()"
   ]
  },
  {
   "cell_type": "code",
   "execution_count": 4,
   "metadata": {
    "scrolled": true
   },
   "outputs": [
    {
     "data": {
      "text/html": [
       "<div>\n",
       "<style scoped>\n",
       "    .dataframe tbody tr th:only-of-type {\n",
       "        vertical-align: middle;\n",
       "    }\n",
       "\n",
       "    .dataframe tbody tr th {\n",
       "        vertical-align: top;\n",
       "    }\n",
       "\n",
       "    .dataframe thead th {\n",
       "        text-align: right;\n",
       "    }\n",
       "</style>\n",
       "<table border=\"1\" class=\"dataframe\">\n",
       "  <thead>\n",
       "    <tr style=\"text-align: right;\">\n",
       "      <th></th>\n",
       "      <th>artist</th>\n",
       "      <th>auth</th>\n",
       "      <th>firstName</th>\n",
       "      <th>gender</th>\n",
       "      <th>itemInSession</th>\n",
       "      <th>lastName</th>\n",
       "      <th>length</th>\n",
       "      <th>level</th>\n",
       "      <th>location</th>\n",
       "      <th>method</th>\n",
       "      <th>page</th>\n",
       "      <th>registration</th>\n",
       "      <th>sessionId</th>\n",
       "      <th>song</th>\n",
       "      <th>status</th>\n",
       "      <th>ts</th>\n",
       "      <th>userAgent</th>\n",
       "      <th>userId</th>\n",
       "    </tr>\n",
       "  </thead>\n",
       "  <tbody>\n",
       "    <tr>\n",
       "      <th>0</th>\n",
       "      <td>Martha Tilston</td>\n",
       "      <td>Logged In</td>\n",
       "      <td>Colin</td>\n",
       "      <td>M</td>\n",
       "      <td>50</td>\n",
       "      <td>Freeman</td>\n",
       "      <td>277.89016</td>\n",
       "      <td>paid</td>\n",
       "      <td>Bakersfield, CA</td>\n",
       "      <td>PUT</td>\n",
       "      <td>NextSong</td>\n",
       "      <td>1.538173e+12</td>\n",
       "      <td>29</td>\n",
       "      <td>Rockpools</td>\n",
       "      <td>200</td>\n",
       "      <td>1538352117000</td>\n",
       "      <td>Mozilla/5.0 (Windows NT 6.1; WOW64; rv:31.0) G...</td>\n",
       "      <td>30</td>\n",
       "    </tr>\n",
       "    <tr>\n",
       "      <th>1</th>\n",
       "      <td>Five Iron Frenzy</td>\n",
       "      <td>Logged In</td>\n",
       "      <td>Micah</td>\n",
       "      <td>M</td>\n",
       "      <td>79</td>\n",
       "      <td>Long</td>\n",
       "      <td>236.09424</td>\n",
       "      <td>free</td>\n",
       "      <td>Boston-Cambridge-Newton, MA-NH</td>\n",
       "      <td>PUT</td>\n",
       "      <td>NextSong</td>\n",
       "      <td>1.538332e+12</td>\n",
       "      <td>8</td>\n",
       "      <td>Canada</td>\n",
       "      <td>200</td>\n",
       "      <td>1538352180000</td>\n",
       "      <td>\"Mozilla/5.0 (Windows NT 6.1; WOW64) AppleWebK...</td>\n",
       "      <td>9</td>\n",
       "    </tr>\n",
       "    <tr>\n",
       "      <th>2</th>\n",
       "      <td>Adam Lambert</td>\n",
       "      <td>Logged In</td>\n",
       "      <td>Colin</td>\n",
       "      <td>M</td>\n",
       "      <td>51</td>\n",
       "      <td>Freeman</td>\n",
       "      <td>282.82730</td>\n",
       "      <td>paid</td>\n",
       "      <td>Bakersfield, CA</td>\n",
       "      <td>PUT</td>\n",
       "      <td>NextSong</td>\n",
       "      <td>1.538173e+12</td>\n",
       "      <td>29</td>\n",
       "      <td>Time For Miracles</td>\n",
       "      <td>200</td>\n",
       "      <td>1538352394000</td>\n",
       "      <td>Mozilla/5.0 (Windows NT 6.1; WOW64; rv:31.0) G...</td>\n",
       "      <td>30</td>\n",
       "    </tr>\n",
       "    <tr>\n",
       "      <th>3</th>\n",
       "      <td>Enigma</td>\n",
       "      <td>Logged In</td>\n",
       "      <td>Micah</td>\n",
       "      <td>M</td>\n",
       "      <td>80</td>\n",
       "      <td>Long</td>\n",
       "      <td>262.71302</td>\n",
       "      <td>free</td>\n",
       "      <td>Boston-Cambridge-Newton, MA-NH</td>\n",
       "      <td>PUT</td>\n",
       "      <td>NextSong</td>\n",
       "      <td>1.538332e+12</td>\n",
       "      <td>8</td>\n",
       "      <td>Knocking On Forbidden Doors</td>\n",
       "      <td>200</td>\n",
       "      <td>1538352416000</td>\n",
       "      <td>\"Mozilla/5.0 (Windows NT 6.1; WOW64) AppleWebK...</td>\n",
       "      <td>9</td>\n",
       "    </tr>\n",
       "    <tr>\n",
       "      <th>4</th>\n",
       "      <td>Daft Punk</td>\n",
       "      <td>Logged In</td>\n",
       "      <td>Colin</td>\n",
       "      <td>M</td>\n",
       "      <td>52</td>\n",
       "      <td>Freeman</td>\n",
       "      <td>223.60771</td>\n",
       "      <td>paid</td>\n",
       "      <td>Bakersfield, CA</td>\n",
       "      <td>PUT</td>\n",
       "      <td>NextSong</td>\n",
       "      <td>1.538173e+12</td>\n",
       "      <td>29</td>\n",
       "      <td>Harder Better Faster Stronger</td>\n",
       "      <td>200</td>\n",
       "      <td>1538352676000</td>\n",
       "      <td>Mozilla/5.0 (Windows NT 6.1; WOW64; rv:31.0) G...</td>\n",
       "      <td>30</td>\n",
       "    </tr>\n",
       "  </tbody>\n",
       "</table>\n",
       "</div>"
      ],
      "text/plain": [
       "             artist       auth firstName gender  itemInSession lastName  \\\n",
       "0    Martha Tilston  Logged In     Colin      M             50  Freeman   \n",
       "1  Five Iron Frenzy  Logged In     Micah      M             79     Long   \n",
       "2      Adam Lambert  Logged In     Colin      M             51  Freeman   \n",
       "3            Enigma  Logged In     Micah      M             80     Long   \n",
       "4         Daft Punk  Logged In     Colin      M             52  Freeman   \n",
       "\n",
       "      length level                        location method      page  \\\n",
       "0  277.89016  paid                 Bakersfield, CA    PUT  NextSong   \n",
       "1  236.09424  free  Boston-Cambridge-Newton, MA-NH    PUT  NextSong   \n",
       "2  282.82730  paid                 Bakersfield, CA    PUT  NextSong   \n",
       "3  262.71302  free  Boston-Cambridge-Newton, MA-NH    PUT  NextSong   \n",
       "4  223.60771  paid                 Bakersfield, CA    PUT  NextSong   \n",
       "\n",
       "   registration  sessionId                           song  status  \\\n",
       "0  1.538173e+12         29                      Rockpools     200   \n",
       "1  1.538332e+12          8                         Canada     200   \n",
       "2  1.538173e+12         29              Time For Miracles     200   \n",
       "3  1.538332e+12          8    Knocking On Forbidden Doors     200   \n",
       "4  1.538173e+12         29  Harder Better Faster Stronger     200   \n",
       "\n",
       "              ts                                          userAgent userId  \n",
       "0  1538352117000  Mozilla/5.0 (Windows NT 6.1; WOW64; rv:31.0) G...     30  \n",
       "1  1538352180000  \"Mozilla/5.0 (Windows NT 6.1; WOW64) AppleWebK...      9  \n",
       "2  1538352394000  Mozilla/5.0 (Windows NT 6.1; WOW64; rv:31.0) G...     30  \n",
       "3  1538352416000  \"Mozilla/5.0 (Windows NT 6.1; WOW64) AppleWebK...      9  \n",
       "4  1538352676000  Mozilla/5.0 (Windows NT 6.1; WOW64; rv:31.0) G...     30  "
      ]
     },
     "execution_count": 4,
     "metadata": {},
     "output_type": "execute_result"
    }
   ],
   "source": [
    "#used to convert the Apache Spark df DataFrame to a Pandas DataFrame\n",
    "df1 = df.toPandas()\n",
    "df1.head()"
   ]
  },
  {
   "cell_type": "code",
   "execution_count": 5,
   "metadata": {},
   "outputs": [
    {
     "name": "stdout",
     "output_type": "stream",
     "text": [
      "<class 'pandas.core.frame.DataFrame'>\n",
      "RangeIndex: 286500 entries, 0 to 286499\n",
      "Data columns (total 18 columns):\n",
      "artist           228108 non-null object\n",
      "auth             286500 non-null object\n",
      "firstName        278154 non-null object\n",
      "gender           278154 non-null object\n",
      "itemInSession    286500 non-null int64\n",
      "lastName         278154 non-null object\n",
      "length           228108 non-null float64\n",
      "level            286500 non-null object\n",
      "location         278154 non-null object\n",
      "method           286500 non-null object\n",
      "page             286500 non-null object\n",
      "registration     278154 non-null float64\n",
      "sessionId        286500 non-null int64\n",
      "song             228108 non-null object\n",
      "status           286500 non-null int64\n",
      "ts               286500 non-null int64\n",
      "userAgent        278154 non-null object\n",
      "userId           286500 non-null object\n",
      "dtypes: float64(2), int64(4), object(12)\n",
      "memory usage: 39.3+ MB\n"
     ]
    }
   ],
   "source": [
    "#used to get information about the DataFrame\n",
    "df1.info()"
   ]
  },
  {
   "cell_type": "code",
   "execution_count": 6,
   "metadata": {},
   "outputs": [
    {
     "name": "stdout",
     "output_type": "stream",
     "text": [
      "['paid' 'free'] ['PUT' 'GET'] ['NextSong' 'Add to Playlist' 'Roll Advert' 'Thumbs Up' 'Downgrade'\n",
      " 'Thumbs Down' 'Home' 'Logout' 'Help' 'Login' 'Upgrade' 'Add Friend'\n",
      " 'About' 'Settings' 'Submit Upgrade' 'Submit Downgrade' 'Error'\n",
      " 'Save Settings' 'Cancel' 'Cancellation Confirmation' 'Register'\n",
      " 'Submit Registration'] [200 307 404] ['M' 'F' None] ['Logged In' 'Logged Out' 'Cancelled' 'Guest']\n"
     ]
    }
   ],
   "source": [
    "#This code extracts the unique values from various columns of the df1 DataFrame and displays them to the console, allowing us to better understand the different values ​​that appear in those columns and gain insight into the diversity of data in those categories.\n",
    "unique_levels = df1['level'].unique()\n",
    "unique_methods = df1['method'].unique()\n",
    "unique_pages = df1['page'].unique()\n",
    "unique_statuses = df1['status'].unique()\n",
    "unique_genders = df1['gender'].unique()\n",
    "unique_auths = df1['auth'].unique()\n",
    "\n",
    "print(unique_levels, unique_methods, unique_pages, unique_statuses, unique_genders, unique_auths)"
   ]
  },
  {
   "cell_type": "code",
   "execution_count": 7,
   "metadata": {},
   "outputs": [
    {
     "name": "stdout",
     "output_type": "stream",
     "text": [
      "8346\n"
     ]
    }
   ],
   "source": [
    "#this code counts the number of records in the df1 DataFrame that have an empty value in the 'userId' column and displays that count to the console. This allows us to identify how many records in the dataset do not have a 'userId' assigned to them and gives us information about the integrity of the data in that column.\n",
    "empty_user_ids_count = df1.loc[df1['userId'] == '', 'userId'].count()\n",
    "print(empty_user_ids_count)"
   ]
  },
  {
   "cell_type": "code",
   "execution_count": 8,
   "metadata": {},
   "outputs": [
    {
     "data": {
      "text/plain": [
       "0"
      ]
     },
     "execution_count": 8,
     "metadata": {},
     "output_type": "execute_result"
    }
   ],
   "source": [
    "#the code counts the number of records in the DataFrame df that have an empty string as value in the 'sessionId' column. This allows us to identify how many records have an empty 'sessionId' in the dataset and gives us information about the integrity of the data in that column.\n",
    "df.filter(df.sessionId == '').count()"
   ]
  },
  {
   "cell_type": "code",
   "execution_count": 9,
   "metadata": {},
   "outputs": [],
   "source": [
    "#the code first filters the DataFrame df to remove rows that have an empty 'userId' and then counts the number of records that still have an empty 'userId'. This allows us to check how many records have been deleted and gives us information about the integrity of the data in the 'userId' column.\n",
    "count = df.filter((df.userId != '') & (df.userId.isNull() | (df.userId == ''))).count()"
   ]
  },
  {
   "cell_type": "code",
   "execution_count": 10,
   "metadata": {},
   "outputs": [],
   "source": [
    "#converts the Spark DataFrame df to a Pandas DataFrame called df1\n",
    "df1 = df.toPandas()"
   ]
  },
  {
   "cell_type": "code",
   "execution_count": 11,
   "metadata": {},
   "outputs": [
    {
     "name": "stdout",
     "output_type": "stream",
     "text": [
      "['free', 'paid'] ['GET', 'PUT'] ['Add Friend', 'Cancel', 'Settings', 'Help', 'Logout', 'About', 'Thumbs Up', 'Upgrade', 'Add to Playlist', 'Thumbs Down', 'Downgrade', 'Register', 'NextSong', 'Submit Downgrade', 'Login', 'Home', 'Cancellation Confirmation', 'Save Settings', 'Submit Registration', 'Roll Advert', 'Error', 'Submit Upgrade'] [200, 307, 404] ['M', 'F', None] ['Cancelled', 'Guest', 'Logged In', 'Logged Out']\n"
     ]
    }
   ],
   "source": [
    "#seeks to get the unique values of various columns of the dfp DataFrame and store them in separate variables. Unique values ​​are obtained using the set() function, which removes duplicates, and then converted to lists using list(), this allows you to check what unique values ​​exist in each column and can be useful for better understanding the distribution and diversity of the data in those columns.\n",
    "unique_levels = list(set(df1['level']))\n",
    "unique_methods = list(set(df1['method']))\n",
    "unique_pages = list(set(df1['page']))\n",
    "unique_statuses = list(set(df1['status']))\n",
    "unique_genders = list(set(df1['gender']))\n",
    "unique_auths = list(set(df1['auth']))\n",
    "\n",
    "print(unique_levels, unique_methods, unique_pages, unique_statuses, unique_genders, unique_auths)"
   ]
  },
  {
   "cell_type": "code",
   "execution_count": 12,
   "metadata": {},
   "outputs": [
    {
     "name": "stdout",
     "output_type": "stream",
     "text": [
      "(286500, 18)\n"
     ]
    }
   ],
   "source": [
    "# count the number of rows and columns\n",
    "row_count = df.count()\n",
    "column_count = len(df.columns)\n",
    "\n",
    "# print the count\n",
    "print((row_count, column_count))"
   ]
  },
  {
   "cell_type": "code",
   "execution_count": 13,
   "metadata": {},
   "outputs": [
    {
     "data": {
      "text/plain": [
       "DataFrame[summary: string, artist: string, auth: string, firstName: string, gender: string, itemInSession: string, lastName: string, length: string, level: string, location: string, method: string, page: string, registration: string, sessionId: string, song: string, status: string, ts: string, userAgent: string, userId: string]"
      ]
     },
     "execution_count": 13,
     "metadata": {},
     "output_type": "execute_result"
    }
   ],
   "source": [
    "df.describe()"
   ]
  },
  {
   "cell_type": "code",
   "execution_count": 14,
   "metadata": {
    "scrolled": false
   },
   "outputs": [
    {
     "name": "stdout",
     "output_type": "stream",
     "text": [
      "+----------------+---------+---------+------+-------------+--------+---------+-----+--------------------+------+--------+-------------+---------+---------+------+-------------+--------------------+------+\n",
      "|          artist|     auth|firstName|gender|itemInSession|lastName|   length|level|            location|method|    page| registration|sessionId|     song|status|           ts|           userAgent|userId|\n",
      "+----------------+---------+---------+------+-------------+--------+---------+-----+--------------------+------+--------+-------------+---------+---------+------+-------------+--------------------+------+\n",
      "|  Martha Tilston|Logged In|    Colin|     M|           50| Freeman|277.89016| paid|     Bakersfield, CA|   PUT|NextSong|1538173362000|       29|Rockpools|   200|1538352117000|Mozilla/5.0 (Wind...|    30|\n",
      "|Five Iron Frenzy|Logged In|    Micah|     M|           79|    Long|236.09424| free|Boston-Cambridge-...|   PUT|NextSong|1538331630000|        8|   Canada|   200|1538352180000|\"Mozilla/5.0 (Win...|     9|\n",
      "+----------------+---------+---------+------+-------------+--------+---------+-----+--------------------+------+--------+-------------+---------+---------+------+-------------+--------------------+------+\n",
      "only showing top 2 rows\n",
      "\n"
     ]
    }
   ],
   "source": [
    "df.show(2)"
   ]
  },
  {
   "cell_type": "code",
   "execution_count": 15,
   "metadata": {
    "scrolled": true
   },
   "outputs": [
    {
     "name": "stdout",
     "output_type": "stream",
     "text": [
      "+-------+------------------+\n",
      "|summary|            userId|\n",
      "+-------+------------------+\n",
      "|  count|            286500|\n",
      "|   mean| 59682.02278593872|\n",
      "| stddev|109091.94999910535|\n",
      "|    min|                  |\n",
      "|    max|                99|\n",
      "+-------+------------------+\n",
      "\n"
     ]
    }
   ],
   "source": [
    "#Get basic information about the 'userId' column, such as the number of non-null values, the variability of the values, and other important statistics. It can be useful to better understand the distribution and properties of the 'userId' column in the dataset.\n",
    "summary_df = df.select('userId').describe()\n",
    "summary_df.show()"
   ]
  },
  {
   "cell_type": "code",
   "execution_count": 16,
   "metadata": {
    "scrolled": false
   },
   "outputs": [
    {
     "name": "stdout",
     "output_type": "stream",
     "text": [
      "+-------+-----------------+\n",
      "|summary|        sessionId|\n",
      "+-------+-----------------+\n",
      "|  count|           286500|\n",
      "|   mean|1041.526554973822|\n",
      "| stddev|726.7762634630799|\n",
      "|    min|                1|\n",
      "|    25%|              337|\n",
      "|    50%|             1013|\n",
      "|    75%|             1675|\n",
      "|    max|             2474|\n",
      "+-------+-----------------+\n",
      "\n"
     ]
    }
   ],
   "source": [
    "# #Get basic information about the 'sessionId' column, such as the number of non-null values, the variability of the values, and other important statistics. It can be useful to better understand the distribution and properties of the 'sessionId' column in the dataset.\n",
    "summary_df = df.select('sessionId').summary()\n",
    "summary_df.show()"
   ]
  },
  {
   "cell_type": "code",
   "execution_count": 17,
   "metadata": {
    "scrolled": true
   },
   "outputs": [
    {
     "name": "stdout",
     "output_type": "stream",
     "text": [
      "+--------------------+------+\n",
      "|                page| count|\n",
      "+--------------------+------+\n",
      "|              Cancel|    52|\n",
      "|    Submit Downgrade|    63|\n",
      "|         Thumbs Down|  2546|\n",
      "|                Home| 14457|\n",
      "|           Downgrade|  2055|\n",
      "|         Roll Advert|  3933|\n",
      "|              Logout|  3226|\n",
      "|       Save Settings|   310|\n",
      "|Cancellation Conf...|    52|\n",
      "|               About|   924|\n",
      "| Submit Registration|     5|\n",
      "|            Settings|  1514|\n",
      "|               Login|  3241|\n",
      "|            Register|    18|\n",
      "|     Add to Playlist|  6526|\n",
      "|          Add Friend|  4277|\n",
      "|            NextSong|228108|\n",
      "|           Thumbs Up| 12551|\n",
      "|                Help|  1726|\n",
      "|             Upgrade|   499|\n",
      "+--------------------+------+\n",
      "only showing top 20 rows\n",
      "\n"
     ]
    }
   ],
   "source": [
    "#Get an overview of the most frequent and least frequent pages visited by users in the data set. It can help identify usage patterns and understand what actions are most common among users.\n",
    "summary_df = df.groupBy('page').count()\n",
    "summary_df.show()"
   ]
  },
  {
   "cell_type": "code",
   "execution_count": 18,
   "metadata": {
    "scrolled": true
   },
   "outputs": [
    {
     "name": "stdout",
     "output_type": "stream",
     "text": [
      "+--------------------+\n",
      "|                page|\n",
      "+--------------------+\n",
      "|              Cancel|\n",
      "|    Submit Downgrade|\n",
      "|         Thumbs Down|\n",
      "|                Home|\n",
      "|           Downgrade|\n",
      "|         Roll Advert|\n",
      "|              Logout|\n",
      "|       Save Settings|\n",
      "|Cancellation Conf...|\n",
      "|               About|\n",
      "| Submit Registration|\n",
      "|            Settings|\n",
      "|               Login|\n",
      "|            Register|\n",
      "|     Add to Playlist|\n",
      "|          Add Friend|\n",
      "|            NextSong|\n",
      "|           Thumbs Up|\n",
      "|                Help|\n",
      "|             Upgrade|\n",
      "+--------------------+\n",
      "only showing top 20 rows\n",
      "\n"
     ]
    }
   ],
   "source": [
    "#identify the different categories or types of pages present in the data set. It can help to understand the variety of actions or events logged and provide an initial idea of ​​the available features\n",
    "unique_pages_df = df.select('page').distinct()\n",
    "unique_pages_df.show()"
   ]
  },
  {
   "cell_type": "code",
   "execution_count": 19,
   "metadata": {
    "scrolled": false
   },
   "outputs": [
    {
     "name": "stdout",
     "output_type": "stream",
     "text": [
      "+-------+------------------+\n",
      "|summary|            length|\n",
      "+-------+------------------+\n",
      "|  count|            228108|\n",
      "|   mean|249.11718197783375|\n",
      "| stddev| 99.23517921058324|\n",
      "|    min|           0.78322|\n",
      "|    25%|         199.88853|\n",
      "|    50%|         234.50077|\n",
      "|    75%|         277.15873|\n",
      "|    max|        3024.66567|\n",
      "+-------+------------------+\n",
      "\n"
     ]
    }
   ],
   "source": [
    "#Get an overview of the 'length' column, which can help you understand the length characteristics of recorded songs or events.\n",
    "summary_df = df.select('length').summary()\n",
    "summary_df.show()"
   ]
  },
  {
   "cell_type": "code",
   "execution_count": 20,
   "metadata": {
    "scrolled": false
   },
   "outputs": [
    {
     "name": "stdout",
     "output_type": "stream",
     "text": [
      "                                    artist        auth firstName gender  \\\n",
      "0                           Martha Tilston   Logged In     Colin      M   \n",
      "1                         Five Iron Frenzy   Logged In     Micah      M   \n",
      "2                             Adam Lambert   Logged In     Colin      M   \n",
      "3                                   Enigma   Logged In     Micah      M   \n",
      "4                                Daft Punk   Logged In     Colin      M   \n",
      "5                 The All-American Rejects   Logged In     Micah      M   \n",
      "6            The Velvet Underground / Nico   Logged In     Micah      M   \n",
      "7                             Starflyer 59   Logged In     Colin      M   \n",
      "8                                     None   Logged In     Colin      M   \n",
      "9                                 Frumpies   Logged In     Colin      M   \n",
      "10                            Britt Nicole   Logged In     Micah      M   \n",
      "11                                    None   Logged In     Micah      M   \n",
      "12      Edward Sharpe & The Magnetic Zeros   Logged In     Colin      M   \n",
      "13                                   Tesla   Logged In     Micah      M   \n",
      "14                                    None   Logged In     Micah      M   \n",
      "15                             Stan Mosley   Logged In     Colin      M   \n",
      "16                  Florence + The Machine   Logged In     Micah      M   \n",
      "17                       Tokyo Police Club   Logged In   Ashlynn      F   \n",
      "18                                 Orishas   Logged In     Colin      M   \n",
      "19                                 Ratatat   Logged In     Micah      M   \n",
      "20                           Manolo Garcia   Logged In   Ashlynn      F   \n",
      "21                                Downhere   Logged In     Colin      M   \n",
      "22                                   Modjo   Logged In     Alexi      F   \n",
      "23                       MÃÂ¶tley CrÃÂ¼e   Logged In     Micah      M   \n",
      "24                             David Bowie   Logged In   Ashlynn      F   \n",
      "25                                 Skillet   Logged In     Colin      M   \n",
      "26                           Edwyn Collins   Logged In     Alexi      F   \n",
      "27                            Telepopmusik   Logged In     Micah      M   \n",
      "28                           Kings Of Leon   Logged In   Ashlynn      F   \n",
      "29                  Florence + The Machine   Logged In     Colin      M   \n",
      "...                                    ...         ...       ...    ...   \n",
      "286470                              Shaggy   Logged In    Emilia      F   \n",
      "286471                            Natiruts   Logged In    Emilia      F   \n",
      "286472                           In Flames   Logged In    Emilia      F   \n",
      "286473                              Eminem   Logged In    Emilia      F   \n",
      "286474                           Blink-182   Logged In    Emilia      F   \n",
      "286475                                None   Logged In    Emilia      F   \n",
      "286476                          Jason Mraz   Logged In    Emilia      F   \n",
      "286477                Jessica Lea Mayfield   Logged In    Emilia      F   \n",
      "286478                        Jimi Hendrix   Logged In    Emilia      F   \n",
      "286479                                None   Logged In    Emilia      F   \n",
      "286480         Jamie Foxx featuring Twista   Logged In    Emilia      F   \n",
      "286481                             Aaliyah   Logged In    Emilia      F   \n",
      "286482                                None   Logged In    Emilia      F   \n",
      "286483                             Hermano   Logged In    Emilia      F   \n",
      "286484                              Saliva   Logged In    Emilia      F   \n",
      "286485                         Lupe Fiasco   Logged In    Emilia      F   \n",
      "286486                            Harmonia   Logged In    Emilia      F   \n",
      "286487                  The Rolling Stones   Logged In    Emilia      F   \n",
      "286488                      Alejandro Sanz   Logged In    Emilia      F   \n",
      "286489                Valley of the Giants   Logged In    Emilia      F   \n",
      "286490                                None   Logged In    Emilia      F   \n",
      "286491                               Olive   Logged In    Emilia      F   \n",
      "286492                         Iron Maiden   Logged In    Emilia      F   \n",
      "286493                                None   Logged In    Emilia      F   \n",
      "286494                                None  Logged Out      None   None   \n",
      "286495                                None  Logged Out      None   None   \n",
      "286496                                None  Logged Out      None   None   \n",
      "286497                                None   Logged In    Emilia      F   \n",
      "286498                                None   Logged In    Emilia      F   \n",
      "286499                      Camera Obscura   Logged In    Emilia      F   \n",
      "\n",
      "        itemInSession  lastName     length level  \\\n",
      "0                  50   Freeman  277.89016  paid   \n",
      "1                  79      Long  236.09424  free   \n",
      "2                  51   Freeman  282.82730  paid   \n",
      "3                  80      Long  262.71302  free   \n",
      "4                  52   Freeman  223.60771  paid   \n",
      "5                  81      Long  208.29995  free   \n",
      "6                  82      Long  260.46649  free   \n",
      "7                  53   Freeman  185.44281  paid   \n",
      "8                  54   Freeman        NaN  paid   \n",
      "9                  55   Freeman  134.47791  paid   \n",
      "10                 83      Long  229.87710  free   \n",
      "11                 84      Long        NaN  free   \n",
      "12                 56   Freeman  223.58159  paid   \n",
      "13                 85      Long  201.06404  free   \n",
      "14                 86      Long        NaN  free   \n",
      "15                 57   Freeman  246.69995  paid   \n",
      "16                 87      Long  168.64608  free   \n",
      "17                  0  Williams  166.11220  free   \n",
      "18                 58   Freeman  222.22322  paid   \n",
      "19                 88      Long  229.77261  free   \n",
      "20                  1  Williams  283.74159  free   \n",
      "21                 59   Freeman  223.92118  paid   \n",
      "22                  0    Warren  250.93179  paid   \n",
      "23                 89      Long  231.26159  free   \n",
      "24                  2  Williams  174.41914  free   \n",
      "25                 60   Freeman  233.32526  paid   \n",
      "26                  1    Warren  216.84200  paid   \n",
      "27                 90      Long  241.60608  free   \n",
      "28                  3  Williams  307.46077  free   \n",
      "29                 61   Freeman  219.66322  paid   \n",
      "...               ...       ...        ...   ...   \n",
      "286470             16     House  201.37751  paid   \n",
      "286471             17     House  210.88608  paid   \n",
      "286472             18     House  217.65179  paid   \n",
      "286473             19     House  250.82730  paid   \n",
      "286474             20     House  173.76608  paid   \n",
      "286475             21     House        NaN  paid   \n",
      "286476             22     House  218.40934  paid   \n",
      "286477             23     House  180.74077  paid   \n",
      "286478             24     House  380.68200  paid   \n",
      "286479             25     House        NaN  paid   \n",
      "286480             26     House  258.79465  paid   \n",
      "286481             27     House  228.28363  paid   \n",
      "286482             28     House        NaN  paid   \n",
      "286483             29     House  115.90485  paid   \n",
      "286484             30     House  222.56281  paid   \n",
      "286485             31     House  273.94567  paid   \n",
      "286486             32     House  655.77751  paid   \n",
      "286487             33     House  225.30567  paid   \n",
      "286488             34     House  241.52771  paid   \n",
      "286489             35     House  420.46649  paid   \n",
      "286490             36     House        NaN  paid   \n",
      "286491             37     House  264.12363  paid   \n",
      "286492             38     House  258.66404  paid   \n",
      "286493             39     House        NaN  paid   \n",
      "286494             40      None        NaN  paid   \n",
      "286495             41      None        NaN  paid   \n",
      "286496             42      None        NaN  paid   \n",
      "286497             43     House        NaN  paid   \n",
      "286498             44     House        NaN  paid   \n",
      "286499             45     House  170.89261  paid   \n",
      "\n",
      "                                     location method             page  \\\n",
      "0                             Bakersfield, CA    PUT         NextSong   \n",
      "1              Boston-Cambridge-Newton, MA-NH    PUT         NextSong   \n",
      "2                             Bakersfield, CA    PUT         NextSong   \n",
      "3              Boston-Cambridge-Newton, MA-NH    PUT         NextSong   \n",
      "4                             Bakersfield, CA    PUT         NextSong   \n",
      "5              Boston-Cambridge-Newton, MA-NH    PUT         NextSong   \n",
      "6              Boston-Cambridge-Newton, MA-NH    PUT         NextSong   \n",
      "7                             Bakersfield, CA    PUT         NextSong   \n",
      "8                             Bakersfield, CA    PUT  Add to Playlist   \n",
      "9                             Bakersfield, CA    PUT         NextSong   \n",
      "10             Boston-Cambridge-Newton, MA-NH    PUT         NextSong   \n",
      "11             Boston-Cambridge-Newton, MA-NH    GET      Roll Advert   \n",
      "12                            Bakersfield, CA    PUT         NextSong   \n",
      "13             Boston-Cambridge-Newton, MA-NH    PUT         NextSong   \n",
      "14             Boston-Cambridge-Newton, MA-NH    PUT        Thumbs Up   \n",
      "15                            Bakersfield, CA    PUT         NextSong   \n",
      "16             Boston-Cambridge-Newton, MA-NH    PUT         NextSong   \n",
      "17                            Tallahassee, FL    PUT         NextSong   \n",
      "18                            Bakersfield, CA    PUT         NextSong   \n",
      "19             Boston-Cambridge-Newton, MA-NH    PUT         NextSong   \n",
      "20                            Tallahassee, FL    PUT         NextSong   \n",
      "21                            Bakersfield, CA    PUT         NextSong   \n",
      "22                 Spokane-Spokane Valley, WA    PUT         NextSong   \n",
      "23             Boston-Cambridge-Newton, MA-NH    PUT         NextSong   \n",
      "24                            Tallahassee, FL    PUT         NextSong   \n",
      "25                            Bakersfield, CA    PUT         NextSong   \n",
      "26                 Spokane-Spokane Valley, WA    PUT         NextSong   \n",
      "27             Boston-Cambridge-Newton, MA-NH    PUT         NextSong   \n",
      "28                            Tallahassee, FL    PUT         NextSong   \n",
      "29                            Bakersfield, CA    PUT         NextSong   \n",
      "...                                       ...    ...              ...   \n",
      "286470  New York-Newark-Jersey City, NY-NJ-PA    PUT         NextSong   \n",
      "286471  New York-Newark-Jersey City, NY-NJ-PA    PUT         NextSong   \n",
      "286472  New York-Newark-Jersey City, NY-NJ-PA    PUT         NextSong   \n",
      "286473  New York-Newark-Jersey City, NY-NJ-PA    PUT         NextSong   \n",
      "286474  New York-Newark-Jersey City, NY-NJ-PA    PUT         NextSong   \n",
      "286475  New York-Newark-Jersey City, NY-NJ-PA    PUT        Thumbs Up   \n",
      "286476  New York-Newark-Jersey City, NY-NJ-PA    PUT         NextSong   \n",
      "286477  New York-Newark-Jersey City, NY-NJ-PA    PUT         NextSong   \n",
      "286478  New York-Newark-Jersey City, NY-NJ-PA    PUT         NextSong   \n",
      "286479  New York-Newark-Jersey City, NY-NJ-PA    PUT       Add Friend   \n",
      "286480  New York-Newark-Jersey City, NY-NJ-PA    PUT         NextSong   \n",
      "286481  New York-Newark-Jersey City, NY-NJ-PA    PUT         NextSong   \n",
      "286482  New York-Newark-Jersey City, NY-NJ-PA    GET             Home   \n",
      "286483  New York-Newark-Jersey City, NY-NJ-PA    PUT         NextSong   \n",
      "286484  New York-Newark-Jersey City, NY-NJ-PA    PUT         NextSong   \n",
      "286485  New York-Newark-Jersey City, NY-NJ-PA    PUT         NextSong   \n",
      "286486  New York-Newark-Jersey City, NY-NJ-PA    PUT         NextSong   \n",
      "286487  New York-Newark-Jersey City, NY-NJ-PA    PUT         NextSong   \n",
      "286488  New York-Newark-Jersey City, NY-NJ-PA    PUT         NextSong   \n",
      "286489  New York-Newark-Jersey City, NY-NJ-PA    PUT         NextSong   \n",
      "286490  New York-Newark-Jersey City, NY-NJ-PA    GET             Home   \n",
      "286491  New York-Newark-Jersey City, NY-NJ-PA    PUT         NextSong   \n",
      "286492  New York-Newark-Jersey City, NY-NJ-PA    PUT         NextSong   \n",
      "286493  New York-Newark-Jersey City, NY-NJ-PA    PUT           Logout   \n",
      "286494                                   None    GET             Home   \n",
      "286495                                   None    GET             Home   \n",
      "286496                                   None    PUT            Login   \n",
      "286497  New York-Newark-Jersey City, NY-NJ-PA    GET             Home   \n",
      "286498  New York-Newark-Jersey City, NY-NJ-PA    GET            About   \n",
      "286499  New York-Newark-Jersey City, NY-NJ-PA    PUT         NextSong   \n",
      "\n",
      "        registration  sessionId  \\\n",
      "0       1.538173e+12         29   \n",
      "1       1.538332e+12          8   \n",
      "2       1.538173e+12         29   \n",
      "3       1.538332e+12          8   \n",
      "4       1.538173e+12         29   \n",
      "5       1.538332e+12          8   \n",
      "6       1.538332e+12          8   \n",
      "7       1.538173e+12         29   \n",
      "8       1.538173e+12         29   \n",
      "9       1.538173e+12         29   \n",
      "10      1.538332e+12          8   \n",
      "11      1.538332e+12          8   \n",
      "12      1.538173e+12         29   \n",
      "13      1.538332e+12          8   \n",
      "14      1.538332e+12          8   \n",
      "15      1.538173e+12         29   \n",
      "16      1.538332e+12          8   \n",
      "17      1.537365e+12        217   \n",
      "18      1.538173e+12         29   \n",
      "19      1.538332e+12          8   \n",
      "20      1.537365e+12        217   \n",
      "21      1.538173e+12         29   \n",
      "22      1.532483e+12         53   \n",
      "23      1.538332e+12          8   \n",
      "24      1.537365e+12        217   \n",
      "25      1.538173e+12         29   \n",
      "26      1.532483e+12         53   \n",
      "27      1.538332e+12          8   \n",
      "28      1.537365e+12        217   \n",
      "29      1.538173e+12         29   \n",
      "...              ...        ...   \n",
      "286470  1.538337e+12        500   \n",
      "286471  1.538337e+12        500   \n",
      "286472  1.538337e+12        500   \n",
      "286473  1.538337e+12        500   \n",
      "286474  1.538337e+12        500   \n",
      "286475  1.538337e+12        500   \n",
      "286476  1.538337e+12        500   \n",
      "286477  1.538337e+12        500   \n",
      "286478  1.538337e+12        500   \n",
      "286479  1.538337e+12        500   \n",
      "286480  1.538337e+12        500   \n",
      "286481  1.538337e+12        500   \n",
      "286482  1.538337e+12        500   \n",
      "286483  1.538337e+12        500   \n",
      "286484  1.538337e+12        500   \n",
      "286485  1.538337e+12        500   \n",
      "286486  1.538337e+12        500   \n",
      "286487  1.538337e+12        500   \n",
      "286488  1.538337e+12        500   \n",
      "286489  1.538337e+12        500   \n",
      "286490  1.538337e+12        500   \n",
      "286491  1.538337e+12        500   \n",
      "286492  1.538337e+12        500   \n",
      "286493  1.538337e+12        500   \n",
      "286494           NaN        500   \n",
      "286495           NaN        500   \n",
      "286496           NaN        500   \n",
      "286497  1.538337e+12        500   \n",
      "286498  1.538337e+12        500   \n",
      "286499  1.538337e+12        500   \n",
      "\n",
      "                                                     song  status  \\\n",
      "0                                               Rockpools     200   \n",
      "1                                                  Canada     200   \n",
      "2                                       Time For Miracles     200   \n",
      "3                             Knocking On Forbidden Doors     200   \n",
      "4                           Harder Better Faster Stronger     200   \n",
      "5                                          Don't Leave Me     200   \n",
      "6                                             Run Run Run     200   \n",
      "7                          Passengers (Old Album Version)     200   \n",
      "8                                                    None     200   \n",
      "9                                              Fuck Kitty     200   \n",
      "10                                      Walk On The Water     200   \n",
      "11                                                   None     200   \n",
      "12                                                   Jade     200   \n",
      "13                                         Gettin' Better     200   \n",
      "14                                                   None     307   \n",
      "15                                      So-Called Friends     200   \n",
      "16                                    You've Got The Love     200   \n",
      "17                                   Citizens Of Tomorrow     200   \n",
      "18                                              Represent     200   \n",
      "19                                                 Swisha     200   \n",
      "20                                   Carbon Y Ramas Secas     200   \n",
      "21                                              Here I Am     200   \n",
      "22                                            What I Mean     200   \n",
      "23                                           Sticky Sweet     200   \n",
      "24                         Sorrow (1997 Digital Remaster)     200   \n",
      "25                             Rebirthing (Album Version)     200   \n",
      "26         You'll Never Know (My Love) (Bovellian 07 Mix)     200   \n",
      "27                                                  Smile     200   \n",
      "28                                             I Want You     200   \n",
      "29                         Dog Days Are Over (Radio Edit)     200   \n",
      "...                                                   ...     ...   \n",
      "286470                                          Lucky Day     200   \n",
      "286471                   Jamaica Roots II(Agora E Sempre)     200   \n",
      "286472                               Embody the invisible     200   \n",
      "286473                                        Mockingbird     200   \n",
      "286474                                       Feeling This     200   \n",
      "286475                                               None     307   \n",
      "286476                  Geek In The Pink [Phil Tan Remix]     200   \n",
      "286477                                    Greater Heights     200   \n",
      "286478                                     Bleeding Heart     200   \n",
      "286479                                               None     307   \n",
      "286480                                DJ Play A Love Song     200   \n",
      "286481                                  More Than A Woman     200   \n",
      "286482                                               None     200   \n",
      "286483                                Letters From Madrid     200   \n",
      "286484                                 King Of The Stereo     200   \n",
      "286485  Shining Down [feat. Matthew Santos] (Amended A...     200   \n",
      "286486                                      Sehr kosmisch     200   \n",
      "286487                                               Tops     200   \n",
      "286488                                  Tu no tienes alma     200   \n",
      "286489                                       Bala Bay Inn     200   \n",
      "286490                                               None     200   \n",
      "286491                                   You're Not Alone     200   \n",
      "286492  Murders In The Rue Morgue (1998 Digital Remaster)     200   \n",
      "286493                                               None     307   \n",
      "286494                                               None     200   \n",
      "286495                                               None     200   \n",
      "286496                                               None     307   \n",
      "286497                                               None     200   \n",
      "286498                                               None     200   \n",
      "286499                                The Sun On His Back     200   \n",
      "\n",
      "                   ts                                          userAgent  \\\n",
      "0       1538352117000  Mozilla/5.0 (Windows NT 6.1; WOW64; rv:31.0) G...   \n",
      "1       1538352180000  \"Mozilla/5.0 (Windows NT 6.1; WOW64) AppleWebK...   \n",
      "2       1538352394000  Mozilla/5.0 (Windows NT 6.1; WOW64; rv:31.0) G...   \n",
      "3       1538352416000  \"Mozilla/5.0 (Windows NT 6.1; WOW64) AppleWebK...   \n",
      "4       1538352676000  Mozilla/5.0 (Windows NT 6.1; WOW64; rv:31.0) G...   \n",
      "5       1538352678000  \"Mozilla/5.0 (Windows NT 6.1; WOW64) AppleWebK...   \n",
      "6       1538352886000  \"Mozilla/5.0 (Windows NT 6.1; WOW64) AppleWebK...   \n",
      "7       1538352899000  Mozilla/5.0 (Windows NT 6.1; WOW64; rv:31.0) G...   \n",
      "8       1538352905000  Mozilla/5.0 (Windows NT 6.1; WOW64; rv:31.0) G...   \n",
      "9       1538353084000  Mozilla/5.0 (Windows NT 6.1; WOW64; rv:31.0) G...   \n",
      "10      1538353146000  \"Mozilla/5.0 (Windows NT 6.1; WOW64) AppleWebK...   \n",
      "11      1538353150000  \"Mozilla/5.0 (Windows NT 6.1; WOW64) AppleWebK...   \n",
      "12      1538353218000  Mozilla/5.0 (Windows NT 6.1; WOW64; rv:31.0) G...   \n",
      "13      1538353375000  \"Mozilla/5.0 (Windows NT 6.1; WOW64) AppleWebK...   \n",
      "14      1538353376000  \"Mozilla/5.0 (Windows NT 6.1; WOW64) AppleWebK...   \n",
      "15      1538353441000  Mozilla/5.0 (Windows NT 6.1; WOW64; rv:31.0) G...   \n",
      "16      1538353576000  \"Mozilla/5.0 (Windows NT 6.1; WOW64) AppleWebK...   \n",
      "17      1538353668000  \"Mozilla/5.0 (Macintosh; Intel Mac OS X 10_9_4...   \n",
      "18      1538353687000  Mozilla/5.0 (Windows NT 6.1; WOW64; rv:31.0) G...   \n",
      "19      1538353744000  \"Mozilla/5.0 (Windows NT 6.1; WOW64) AppleWebK...   \n",
      "20      1538353834000  \"Mozilla/5.0 (Macintosh; Intel Mac OS X 10_9_4...   \n",
      "21      1538353909000  Mozilla/5.0 (Windows NT 6.1; WOW64; rv:31.0) G...   \n",
      "22      1538353930000  Mozilla/5.0 (Windows NT 6.1; WOW64; rv:32.0) G...   \n",
      "23      1538353973000  \"Mozilla/5.0 (Windows NT 6.1; WOW64) AppleWebK...   \n",
      "24      1538354117000  \"Mozilla/5.0 (Macintosh; Intel Mac OS X 10_9_4...   \n",
      "25      1538354132000  Mozilla/5.0 (Windows NT 6.1; WOW64; rv:31.0) G...   \n",
      "26      1538354180000  Mozilla/5.0 (Windows NT 6.1; WOW64; rv:32.0) G...   \n",
      "27      1538354204000  \"Mozilla/5.0 (Windows NT 6.1; WOW64) AppleWebK...   \n",
      "28      1538354291000  \"Mozilla/5.0 (Macintosh; Intel Mac OS X 10_9_4...   \n",
      "29      1538354365000  Mozilla/5.0 (Windows NT 6.1; WOW64; rv:31.0) G...   \n",
      "...               ...                                                ...   \n",
      "286470  1543617391000  Mozilla/5.0 (compatible; MSIE 9.0; Windows NT ...   \n",
      "286471  1543617592000  Mozilla/5.0 (compatible; MSIE 9.0; Windows NT ...   \n",
      "286472  1543617802000  Mozilla/5.0 (compatible; MSIE 9.0; Windows NT ...   \n",
      "286473  1543618019000  Mozilla/5.0 (compatible; MSIE 9.0; Windows NT ...   \n",
      "286474  1543618269000  Mozilla/5.0 (compatible; MSIE 9.0; Windows NT ...   \n",
      "286475  1543618270000  Mozilla/5.0 (compatible; MSIE 9.0; Windows NT ...   \n",
      "286476  1543618442000  Mozilla/5.0 (compatible; MSIE 9.0; Windows NT ...   \n",
      "286477  1543618660000  Mozilla/5.0 (compatible; MSIE 9.0; Windows NT ...   \n",
      "286478  1543618840000  Mozilla/5.0 (compatible; MSIE 9.0; Windows NT ...   \n",
      "286479  1543618841000  Mozilla/5.0 (compatible; MSIE 9.0; Windows NT ...   \n",
      "286480  1543619220000  Mozilla/5.0 (compatible; MSIE 9.0; Windows NT ...   \n",
      "286481  1543619478000  Mozilla/5.0 (compatible; MSIE 9.0; Windows NT ...   \n",
      "286482  1543619556000  Mozilla/5.0 (compatible; MSIE 9.0; Windows NT ...   \n",
      "286483  1543619706000  Mozilla/5.0 (compatible; MSIE 9.0; Windows NT ...   \n",
      "286484  1543619821000  Mozilla/5.0 (compatible; MSIE 9.0; Windows NT ...   \n",
      "286485  1543620043000  Mozilla/5.0 (compatible; MSIE 9.0; Windows NT ...   \n",
      "286486  1543620316000  Mozilla/5.0 (compatible; MSIE 9.0; Windows NT ...   \n",
      "286487  1543620971000  Mozilla/5.0 (compatible; MSIE 9.0; Windows NT ...   \n",
      "286488  1543621196000  Mozilla/5.0 (compatible; MSIE 9.0; Windows NT ...   \n",
      "286489  1543621437000  Mozilla/5.0 (compatible; MSIE 9.0; Windows NT ...   \n",
      "286490  1543621485000  Mozilla/5.0 (compatible; MSIE 9.0; Windows NT ...   \n",
      "286491  1543621857000  Mozilla/5.0 (compatible; MSIE 9.0; Windows NT ...   \n",
      "286492  1543622121000  Mozilla/5.0 (compatible; MSIE 9.0; Windows NT ...   \n",
      "286493  1543622122000  Mozilla/5.0 (compatible; MSIE 9.0; Windows NT ...   \n",
      "286494  1543622135000                                               None   \n",
      "286495  1543622240000                                               None   \n",
      "286496  1543622241000                                               None   \n",
      "286497  1543622248000  Mozilla/5.0 (compatible; MSIE 9.0; Windows NT ...   \n",
      "286498  1543622398000  Mozilla/5.0 (compatible; MSIE 9.0; Windows NT ...   \n",
      "286499  1543622411000  Mozilla/5.0 (compatible; MSIE 9.0; Windows NT ...   \n",
      "\n",
      "        userId  \n",
      "0           30  \n",
      "1            9  \n",
      "2           30  \n",
      "3            9  \n",
      "4           30  \n",
      "5            9  \n",
      "6            9  \n",
      "7           30  \n",
      "8           30  \n",
      "9           30  \n",
      "10           9  \n",
      "11           9  \n",
      "12          30  \n",
      "13           9  \n",
      "14           9  \n",
      "15          30  \n",
      "16           9  \n",
      "17          74  \n",
      "18          30  \n",
      "19           9  \n",
      "20          74  \n",
      "21          30  \n",
      "22          54  \n",
      "23           9  \n",
      "24          74  \n",
      "25          30  \n",
      "26          54  \n",
      "27           9  \n",
      "28          74  \n",
      "29          30  \n",
      "...        ...  \n",
      "286470  300011  \n",
      "286471  300011  \n",
      "286472  300011  \n",
      "286473  300011  \n",
      "286474  300011  \n",
      "286475  300011  \n",
      "286476  300011  \n",
      "286477  300011  \n",
      "286478  300011  \n",
      "286479  300011  \n",
      "286480  300011  \n",
      "286481  300011  \n",
      "286482  300011  \n",
      "286483  300011  \n",
      "286484  300011  \n",
      "286485  300011  \n",
      "286486  300011  \n",
      "286487  300011  \n",
      "286488  300011  \n",
      "286489  300011  \n",
      "286490  300011  \n",
      "286491  300011  \n",
      "286492  300011  \n",
      "286493  300011  \n",
      "286494          \n",
      "286495          \n",
      "286496          \n",
      "286497  300011  \n",
      "286498  300011  \n",
      "286499  300011  \n",
      "\n",
      "[286500 rows x 18 columns]\n"
     ]
    }
   ],
   "source": [
    "#convert Spark's df DataFrame to a Pandas DataFrame\n",
    "df_pandas = df.toPandas()\n",
    "print(df_pandas)"
   ]
  },
  {
   "cell_type": "markdown",
   "metadata": {},
   "source": [
    "# Exploratory Data Analysis\n",
    "When you're working with the full dataset, perform EDA by loading a small subset of the data and doing basic manipulations within Spark. In this workspace, you are already provided a small subset of data you can explore.\n",
    "\n",
    "### Define Churn\n",
    "\n",
    "Once you've done some preliminary analysis, create a column `Churn` to use as the label for your model. I suggest using the `Cancellation Confirmation` events to define your churn, which happen for both paid and free users. As a bonus task, you can also look into the `Downgrade` events.\n",
    "\n",
    "### Explore Data\n",
    "Once you've defined churn, perform some exploratory data analysis to observe the behavior for users who stayed vs users who churned. You can start by exploring aggregates on these two groups of users, observing how much of a specific action they experienced per a certain time unit or number of songs played."
   ]
  },
  {
   "cell_type": "markdown",
   "metadata": {},
   "source": [
    "Define Churn"
   ]
  },
  {
   "cell_type": "code",
   "execution_count": 21,
   "metadata": {},
   "outputs": [
    {
     "name": "stdout",
     "output_type": "stream",
     "text": [
      "['Unique userIds: 226', 'Unique pages: 22', 'Unique sessionIds: 2354']\n"
     ]
    }
   ],
   "source": [
    "#generates a list called unique_counts that contains information about the number of unique values in the 'userId', 'page' and 'sessionId' columns of the DataFrame\n",
    "unique_counts = [f'Unique {col}s: {df.select(col).distinct().count()}' for col in ('userId', 'page', 'sessionId')]\n",
    "print(unique_counts)"
   ]
  },
  {
   "cell_type": "code",
   "execution_count": 22,
   "metadata": {},
   "outputs": [
    {
     "name": "stdout",
     "output_type": "stream",
     "text": [
      "226\n"
     ]
    }
   ],
   "source": [
    "#calculates the number of unique values in the 'userId' column of the DataFrame df and stores it in the unique_user_ids_count variable\n",
    "unique_user_ids_count = len(df.select('userId').distinct().collect())\n",
    "print(unique_user_ids_count)"
   ]
  },
  {
   "cell_type": "code",
   "execution_count": 23,
   "metadata": {},
   "outputs": [],
   "source": [
    "#the code assigns values of 1 to the \"churn\" column for the records that represent a cancellation confirmation, and then calculates the cumulative sum of these values ​​within a window defined by the \"userId\" partition. This can help identify when a user has canceled based on the cumulative evolution of the churn records for each user.\n",
    "from pyspark.sql.window import Window\n",
    "from pyspark.sql import functions as F\n",
    "windowval = Window.partitionBy(\"userId\").rangeBetween(Window.unboundedPreceding, Window.unboundedFollowing)\n",
    "\n",
    "df = df.withColumn(\"churn\", F.expr(\"CASE WHEN page = 'Cancellation Confirmation' THEN 1 ELSE 0 END\"))\n",
    "df = df.withColumn(\"churn\", F.sum(\"churn\").over(windowval))"
   ]
  },
  {
   "cell_type": "code",
   "execution_count": 24,
   "metadata": {},
   "outputs": [],
   "source": [
    "df1 = df.toPandas()"
   ]
  },
  {
   "cell_type": "code",
   "execution_count": 25,
   "metadata": {},
   "outputs": [
    {
     "data": {
      "text/html": [
       "<div>\n",
       "<style scoped>\n",
       "    .dataframe tbody tr th:only-of-type {\n",
       "        vertical-align: middle;\n",
       "    }\n",
       "\n",
       "    .dataframe tbody tr th {\n",
       "        vertical-align: top;\n",
       "    }\n",
       "\n",
       "    .dataframe thead th {\n",
       "        text-align: right;\n",
       "    }\n",
       "</style>\n",
       "<table border=\"1\" class=\"dataframe\">\n",
       "  <thead>\n",
       "    <tr style=\"text-align: right;\">\n",
       "      <th></th>\n",
       "      <th>artist</th>\n",
       "      <th>auth</th>\n",
       "      <th>firstName</th>\n",
       "      <th>gender</th>\n",
       "      <th>itemInSession</th>\n",
       "      <th>lastName</th>\n",
       "      <th>length</th>\n",
       "      <th>level</th>\n",
       "      <th>location</th>\n",
       "      <th>method</th>\n",
       "      <th>page</th>\n",
       "      <th>registration</th>\n",
       "      <th>sessionId</th>\n",
       "      <th>song</th>\n",
       "      <th>status</th>\n",
       "      <th>ts</th>\n",
       "      <th>userAgent</th>\n",
       "      <th>userId</th>\n",
       "      <th>churn</th>\n",
       "    </tr>\n",
       "  </thead>\n",
       "  <tbody>\n",
       "    <tr>\n",
       "      <th>37676</th>\n",
       "      <td>None</td>\n",
       "      <td>Logged In</td>\n",
       "      <td>Rachel</td>\n",
       "      <td>F</td>\n",
       "      <td>41</td>\n",
       "      <td>Bailey</td>\n",
       "      <td>NaN</td>\n",
       "      <td>paid</td>\n",
       "      <td>Albany-Schenectady-Troy, NY</td>\n",
       "      <td>GET</td>\n",
       "      <td>Error</td>\n",
       "      <td>1.536103e+12</td>\n",
       "      <td>391</td>\n",
       "      <td>None</td>\n",
       "      <td>404</td>\n",
       "      <td>1539254768000</td>\n",
       "      <td>Mozilla/5.0 (Windows NT 6.1; WOW64; rv:31.0) G...</td>\n",
       "      <td>73</td>\n",
       "      <td>1</td>\n",
       "    </tr>\n",
       "    <tr>\n",
       "      <th>30626</th>\n",
       "      <td>The Classic Crime</td>\n",
       "      <td>Logged In</td>\n",
       "      <td>Kaleb</td>\n",
       "      <td>M</td>\n",
       "      <td>20</td>\n",
       "      <td>Thompson</td>\n",
       "      <td>173.32200</td>\n",
       "      <td>paid</td>\n",
       "      <td>Los Angeles-Long Beach-Anaheim, CA</td>\n",
       "      <td>PUT</td>\n",
       "      <td>NextSong</td>\n",
       "      <td>1.536988e+12</td>\n",
       "      <td>1455</td>\n",
       "      <td>Warrior Poet</td>\n",
       "      <td>200</td>\n",
       "      <td>1540997396000</td>\n",
       "      <td>\"Mozilla/5.0 (Macintosh; Intel Mac OS X 10_9_4...</td>\n",
       "      <td>29</td>\n",
       "      <td>1</td>\n",
       "    </tr>\n",
       "    <tr>\n",
       "      <th>72364</th>\n",
       "      <td>Fernando Ortega</td>\n",
       "      <td>Logged In</td>\n",
       "      <td>Alexandria</td>\n",
       "      <td>F</td>\n",
       "      <td>177</td>\n",
       "      <td>Mills</td>\n",
       "      <td>232.51546</td>\n",
       "      <td>paid</td>\n",
       "      <td>Atlantic City-Hammonton, NJ</td>\n",
       "      <td>PUT</td>\n",
       "      <td>NextSong</td>\n",
       "      <td>1.537150e+12</td>\n",
       "      <td>2300</td>\n",
       "      <td>Be Thou My Vision (LP Version)</td>\n",
       "      <td>200</td>\n",
       "      <td>1543252863000</td>\n",
       "      <td>\"Mozilla/5.0 (Macintosh; Intel Mac OS X 10_9_4...</td>\n",
       "      <td>96</td>\n",
       "      <td>0</td>\n",
       "    </tr>\n",
       "    <tr>\n",
       "      <th>69435</th>\n",
       "      <td>Guildo Horn</td>\n",
       "      <td>Logged In</td>\n",
       "      <td>Lindyn</td>\n",
       "      <td>F</td>\n",
       "      <td>284</td>\n",
       "      <td>Patel</td>\n",
       "      <td>240.37832</td>\n",
       "      <td>paid</td>\n",
       "      <td>Truckee-Grass Valley, CA</td>\n",
       "      <td>PUT</td>\n",
       "      <td>NextSong</td>\n",
       "      <td>1.532589e+12</td>\n",
       "      <td>224</td>\n",
       "      <td>Aber Dich Gibt's Nur Einmal FÃÂ¼r Mich</td>\n",
       "      <td>200</td>\n",
       "      <td>1540363520000</td>\n",
       "      <td>Mozilla/5.0 (Macintosh; Intel Mac OS X 10.9; r...</td>\n",
       "      <td>300002</td>\n",
       "      <td>0</td>\n",
       "    </tr>\n",
       "    <tr>\n",
       "      <th>197520</th>\n",
       "      <td>The Fratellis</td>\n",
       "      <td>Logged In</td>\n",
       "      <td>Joshua</td>\n",
       "      <td>M</td>\n",
       "      <td>28</td>\n",
       "      <td>Warner</td>\n",
       "      <td>149.96853</td>\n",
       "      <td>paid</td>\n",
       "      <td>San Jose-Sunnyvale-Santa Clara, CA</td>\n",
       "      <td>PUT</td>\n",
       "      <td>NextSong</td>\n",
       "      <td>1.536936e+12</td>\n",
       "      <td>221</td>\n",
       "      <td>The Gutterati?</td>\n",
       "      <td>200</td>\n",
       "      <td>1540313976000</td>\n",
       "      <td>Mozilla/5.0 (Windows NT 6.1; WOW64; Trident/7....</td>\n",
       "      <td>300025</td>\n",
       "      <td>0</td>\n",
       "    </tr>\n",
       "  </tbody>\n",
       "</table>\n",
       "</div>"
      ],
      "text/plain": [
       "                   artist       auth   firstName gender  itemInSession  \\\n",
       "37676                None  Logged In      Rachel      F             41   \n",
       "30626   The Classic Crime  Logged In       Kaleb      M             20   \n",
       "72364     Fernando Ortega  Logged In  Alexandria      F            177   \n",
       "69435         Guildo Horn  Logged In      Lindyn      F            284   \n",
       "197520      The Fratellis  Logged In      Joshua      M             28   \n",
       "\n",
       "        lastName     length level                            location method  \\\n",
       "37676     Bailey        NaN  paid         Albany-Schenectady-Troy, NY    GET   \n",
       "30626   Thompson  173.32200  paid  Los Angeles-Long Beach-Anaheim, CA    PUT   \n",
       "72364      Mills  232.51546  paid         Atlantic City-Hammonton, NJ    PUT   \n",
       "69435      Patel  240.37832  paid            Truckee-Grass Valley, CA    PUT   \n",
       "197520    Warner  149.96853  paid  San Jose-Sunnyvale-Santa Clara, CA    PUT   \n",
       "\n",
       "            page  registration  sessionId  \\\n",
       "37676      Error  1.536103e+12        391   \n",
       "30626   NextSong  1.536988e+12       1455   \n",
       "72364   NextSong  1.537150e+12       2300   \n",
       "69435   NextSong  1.532589e+12        224   \n",
       "197520  NextSong  1.536936e+12        221   \n",
       "\n",
       "                                           song  status             ts  \\\n",
       "37676                                      None     404  1539254768000   \n",
       "30626                              Warrior Poet     200  1540997396000   \n",
       "72364            Be Thou My Vision (LP Version)     200  1543252863000   \n",
       "69435   Aber Dich Gibt's Nur Einmal FÃÂ¼r Mich     200  1540363520000   \n",
       "197520                           The Gutterati?     200  1540313976000   \n",
       "\n",
       "                                                userAgent  userId  churn  \n",
       "37676   Mozilla/5.0 (Windows NT 6.1; WOW64; rv:31.0) G...      73      1  \n",
       "30626   \"Mozilla/5.0 (Macintosh; Intel Mac OS X 10_9_4...      29      1  \n",
       "72364   \"Mozilla/5.0 (Macintosh; Intel Mac OS X 10_9_4...      96      0  \n",
       "69435   Mozilla/5.0 (Macintosh; Intel Mac OS X 10.9; r...  300002      0  \n",
       "197520  Mozilla/5.0 (Windows NT 6.1; WOW64; Trident/7....  300025      0  "
      ]
     },
     "execution_count": 25,
     "metadata": {},
     "output_type": "execute_result"
    }
   ],
   "source": [
    "df1.sample(5)"
   ]
  },
  {
   "cell_type": "markdown",
   "metadata": {},
   "source": [
    "Explore Data"
   ]
  },
  {
   "cell_type": "code",
   "execution_count": 26,
   "metadata": {},
   "outputs": [
    {
     "name": "stdout",
     "output_type": "stream",
     "text": [
      "churn\n",
      "0    174\n",
      "1     52\n",
      "Name: userId, dtype: int64\n"
     ]
    }
   ],
   "source": [
    "#displays the user count for each unique 'churn' value, providing information about the distribution of churns and non-churns in the dataset\n",
    "churn_counts = df1.drop_duplicates(subset='userId').groupby('churn')['userId'].count()\n",
    "print(churn_counts)"
   ]
  },
  {
   "cell_type": "code",
   "execution_count": 27,
   "metadata": {
    "scrolled": true
   },
   "outputs": [
    {
     "name": "stdout",
     "output_type": "stream",
     "text": [
      "+-----+-----+\n",
      "|churn|count|\n",
      "+-----+-----+\n",
      "|    0|  174|\n",
      "|    1|   52|\n",
      "+-----+-----+\n",
      "\n"
     ]
    }
   ],
   "source": [
    "#performs a grouping and aggregation of data in the DataFrame df using the 'churn' column as the grouping criteria\n",
    "df.groupby('churn').agg(F.countDistinct('userId').alias('count')).show()"
   ]
  },
  {
   "cell_type": "code",
   "execution_count": 28,
   "metadata": {},
   "outputs": [
    {
     "name": "stdout",
     "output_type": "stream",
     "text": [
      "+-----+------+-----+\n",
      "|churn|gender|count|\n",
      "+-----+------+-----+\n",
      "|    0|     F|   84|\n",
      "|    0|  null|    1|\n",
      "|    1|     M|   32|\n",
      "|    1|     F|   20|\n",
      "|    0|     M|   89|\n",
      "+-----+------+-----+\n",
      "\n"
     ]
    }
   ],
   "source": [
    "#performs a grouping and aggregation of data in the DataFrame df using the 'churn' and 'gender' columns as grouping criteria.\n",
    "df.groupby('churn', 'gender').agg(F.countDistinct('userId').alias('count')).show()"
   ]
  },
  {
   "cell_type": "code",
   "execution_count": 29,
   "metadata": {},
   "outputs": [
    {
     "name": "stdout",
     "output_type": "stream",
     "text": [
      "+-----+-----+-----+\n",
      "|churn|level|count|\n",
      "+-----+-----+-----+\n",
      "|    1| paid|   36|\n",
      "|    1| free|   46|\n",
      "|    0| free|  150|\n",
      "|    0| paid|  130|\n",
      "+-----+-----+-----+\n",
      "\n"
     ]
    }
   ],
   "source": [
    "#performs a grouping and aggregation of data in the DataFrame df using the 'churn' and 'level' columns as grouping criteria\n",
    "df.groupby('churn', 'level').agg(F.countDistinct('userId').alias('count')).show()"
   ]
  },
  {
   "cell_type": "code",
   "execution_count": 30,
   "metadata": {
    "scrolled": true
   },
   "outputs": [
    {
     "data": {
      "image/png": "[encoded data removed]",
      "text/plain": [
       "<matplotlib.figure.Figure at 0x7f60730f9668>"
      ]
     },
     "metadata": {
      "needs_background": "light"
     },
     "output_type": "display_data"
    }
   ],
   "source": [
    "#generate a bar chart showing the frequency of unique users in different categories\n",
    "def plot_frequency(subset, group, labels, x_title=\"Subscription\", y_title=\"users\"):\n",
    "    freq_counts = df1.drop_duplicates(subset=subset).groupby(group)['userId'].count()\n",
    "    fig, ax = plt.subplots(figsize=(8, 5))\n",
    "    freq_counts.plot(kind='bar', ax=ax, color=['red', 'black'])\n",
    "    ax.set_title('Unique users per category')\n",
    "    ax.set_xlabel(x_title)\n",
    "    ax.set_ylabel(y_title)\n",
    "    ax.set_xticklabels(labels, rotation=0)\n",
    "    plt.show()\n",
    "\n",
    "plot_frequency(['userId'], ['churn'], ['Active', 'Cancelled'])"
   ]
  },
  {
   "cell_type": "markdown",
   "metadata": {},
   "source": [
    "The status of \"cancelled\" accumulates 32% of users."
   ]
  },
  {
   "cell_type": "code",
   "execution_count": 31,
   "metadata": {},
   "outputs": [
    {
     "data": {
      "image/png": "[encoded data removed]",
      "text/plain": [
       "<matplotlib.figure.Figure at 0x7f60730f9be0>"
      ]
     },
     "metadata": {
      "needs_background": "light"
     },
     "output_type": "display_data"
    }
   ],
   "source": [
    "#view unique user count by gender and subscription status\n",
    "import numpy as np\n",
    "def plot_frequency(subset, group, labels, x_title=\"Subscription\", y_title=\"users\"):\n",
    "    freq_counts = df1.drop_duplicates(subset=subset).groupby(group)['userId'].count()\n",
    "    fig, ax = plt.subplots(figsize=(8, 5))\n",
    "    x = np.arange(len(labels))\n",
    "    \n",
    "    colors=['yellow','green','blue','gray']\n",
    "    ax.bar(x, freq_counts, color=colors)\n",
    "    ax.set_title('unique users per category')\n",
    "    ax.set_xlabel(x_title)\n",
    "    ax.set_ylabel(y_title)\n",
    "    ax.set_xticks(x)\n",
    "    ax.set_xticklabels(labels, rotation=0)\n",
    "    plt.show()\n",
    "\n",
    "plot_frequency(['userId', 'gender'],\n",
    "               ['gender', 'churn'],\n",
    "               ['Active-Female', 'Cancelled-Female', 'Active-Male', 'Cancelled-Male'])"
   ]
  },
  {
   "cell_type": "markdown",
   "metadata": {},
   "source": [
    "There is a direct relationship between the highest number of active subscriptions and the highest number of canceled subscriptions that, taking into account the gender, is male."
   ]
  },
  {
   "cell_type": "code",
   "execution_count": 32,
   "metadata": {
    "scrolled": true
   },
   "outputs": [
    {
     "data": {
      "image/png": "[encoded data removed]",
      "text/plain": [
       "<matplotlib.figure.Figure at 0x7f6074328ba8>"
      ]
     },
     "metadata": {
      "needs_background": "light"
     },
     "output_type": "display_data"
    }
   ],
   "source": [
    "#shows the frequency of unique users in different categories\n",
    "def plot_frequency(subset, group, labels, x_title=\"Subscription\", y_title=\"users\"):\n",
    "    freq_counts = df1.drop_duplicates(subset=subset).groupby(group)['userId'].count()\n",
    "    fig, ax = plt.subplots(figsize=(8, 5))\n",
    "    x = np.arange(len(labels))\n",
    "    \n",
    "    colors=['pink','orange','brown','purple']\n",
    "    ax.bar(x, freq_counts, color=colors)\n",
    "    ax.set_title('Unique users per category')\n",
    "    ax.set_xlabel(x_title)\n",
    "    ax.set_ylabel(y_title)\n",
    "    ax.set_xticks(x)\n",
    "    ax.set_xticklabels(labels, rotation=0)\n",
    "    plt.show()\n",
    "\n",
    "plot_frequency(['userId', 'level'],\n",
    "               ['level', 'churn'],\n",
    "               ['Active-Free', 'Cancelled-Free', 'Active-Paid', 'Cancelled-Paid'])"
   ]
  },
  {
   "cell_type": "markdown",
   "metadata": {},
   "source": [
    "85% of total active Sparkify users are paid subscriptions, 77% of total canceled users were paid subscriptions."
   ]
  },
  {
   "cell_type": "code",
   "execution_count": 33,
   "metadata": {},
   "outputs": [
    {
     "data": {
      "image/png": "[encoded data removed]",
      "text/plain": [
       "<matplotlib.figure.Figure at 0x7f6075a0f8d0>"
      ]
     },
     "metadata": {
      "needs_background": "light"
     },
     "output_type": "display_data"
    }
   ],
   "source": [
    "#The provided code performs an analysis of the event pages based on the cancellation status of the users. First, the percentage occurrence of events for canceled and active users on each page is calculated. A bar chart is then created showing the comparison of these percentages between the two groups of users. The graph provides a visualization of the difference in event distribution between canceled users and active users on different pages.\n",
    "users_1 = df1[df1.churn == 1].groupby(['page'])['userId'].count().drop('NextSong')\n",
    "users_1 = users_1 / users_1.sum() * 100\n",
    "\n",
    "users_0 = df1[df1.churn == 0].groupby(['page'])['userId'].count().drop('NextSong')\n",
    "users_0 = users_0 / users_0.sum() * 100\n",
    "\n",
    "users_df = pd.DataFrame({'Cancelled': users_1, 'Active users': users_0})\n",
    "fig, ax = plt.subplots(figsize=(8, 10))\n",
    "users_df.plot(kind='bar', ax=ax, color=['red', 'black'])\n",
    "ax.set_xlabel('Event occurrence (%)')\n",
    "ax.set_ylabel('Page')\n",
    "ax.set_title('Event occurrence for active and cancelled users')\n",
    "plt.show()"
   ]
  },
  {
   "cell_type": "markdown",
   "metadata": {},
   "source": [
    "The activity on the page: Add friend and Add to playlist are notable in relation to the use of Sparkify, the activity with the highest use of the page: Thumps up is for both active users and those who have cancelled."
   ]
  },
  {
   "cell_type": "markdown",
   "metadata": {},
   "source": [
    "# Feature Engineering\n",
    "Once you've familiarized yourself with the data, build out the features you find promising to train your model on. To work with the full dataset, you can follow the following steps.\n",
    "- Write a script to extract the necessary features from the smaller subset of data\n",
    "- Ensure that your script is scalable, using the best practices discussed in Lesson 3\n",
    "- Try your script on the full data set, debugging your script if necessary\n",
    "\n",
    "If you are working in the classroom workspace, you can just extract features based on the small subset of data contained here. Be sure to transfer over this work to the larger dataset when you work on your Spark cluster."
   ]
  },
  {
   "cell_type": "code",
   "execution_count": 34,
   "metadata": {},
   "outputs": [
    {
     "name": "stdout",
     "output_type": "stream",
     "text": [
      "+------+-----+\n",
      "|userId|churn|\n",
      "+------+-----+\n",
      "|100010|    0|\n",
      "|200002|    0|\n",
      "|   125|    1|\n",
      "|   124|    0|\n",
      "|    51|    1|\n",
      "|     7|    0|\n",
      "|    15|    0|\n",
      "|    54|    1|\n",
      "|   155|    0|\n",
      "|100014|    1|\n",
      "|   132|    0|\n",
      "|   154|    0|\n",
      "|   101|    1|\n",
      "|    11|    0|\n",
      "|   138|    0|\n",
      "|300017|    0|\n",
      "|100021|    1|\n",
      "|    29|    1|\n",
      "|    69|    0|\n",
      "|   112|    0|\n",
      "+------+-----+\n",
      "only showing top 20 rows\n",
      "\n"
     ]
    }
   ],
   "source": [
    "#perform an operation on the DataFrame 'df' to get a new DataFrame called 'churn_users'. This new DataFrame contains the 'userId' and 'churn' columns and is obtained by removing duplicate rows based on these two columns. Then, the content of the 'churn_users' DataFrame is displayed in the output. This allows us to see the unique values ​​of 'userId' along with their 'churn' status.\n",
    "\n",
    "churn_users = df.drop_duplicates(['userId', 'churn']).select('userId', 'churn')\n",
    "churn_users.show()"
   ]
  },
  {
   "cell_type": "code",
   "execution_count": 35,
   "metadata": {
    "scrolled": true
   },
   "outputs": [
    {
     "name": "stdout",
     "output_type": "stream",
     "text": [
      "root\n",
      " |-- userId: string (nullable = true)\n",
      " |-- gender: integer (nullable = true)\n",
      "\n",
      "+------+------+\n",
      "|userId|gender|\n",
      "+------+------+\n",
      "|    44|     0|\n",
      "|    46|     0|\n",
      "|    41|     0|\n",
      "|    72|     0|\n",
      "|300023|     0|\n",
      "|    39|     0|\n",
      "|100010|     0|\n",
      "|    40|     0|\n",
      "|    94|     0|\n",
      "|    35|     0|\n",
      "|    75|     0|\n",
      "|   116|     0|\n",
      "|200001|     1|\n",
      "|200020|     1|\n",
      "|100008|     0|\n",
      "|200015|     1|\n",
      "|   100|     1|\n",
      "|100006|     0|\n",
      "|300005|     0|\n",
      "|    25|     0|\n",
      "+------+------+\n",
      "only showing top 20 rows\n",
      "\n"
     ]
    }
   ],
   "source": [
    "#The provided code defines a function called 'create_dummy_df' which creates a new DataFrame from another existing DataFrame. In this case, it is used to create a DataFrame named 'gender_df' containing the 'userId' and 'gender' columns. The function replaces the values ​​in the 'gender' column based on a given dictionary, converts the data type of the 'gender' column to an integer, and displays the schema and content of the resulting new DataFrame. In this case, 'M' values ​​are replaced with '1' and 'F' values ​​are replaced with '0'. This approach allows converting categorical values ​​into numerical variables for further analysis or modeling.\n",
    "def create_supposed_df(col, dictionary):\n",
    "   \n",
    "    col_df = df.select('userId', col).dropDuplicates().replace(dictionary, subset=col)\n",
    "    col_df = col_df.withColumn(col, col_df[col].cast('int'))\n",
    "    col_df.printSchema()\n",
    "    col_df.show()\n",
    "    return col_df\n",
    "\n",
    "gender_df = create_supposed_df('gender', {'M': '1', 'F': '0'})"
   ]
  },
  {
   "cell_type": "code",
   "execution_count": 36,
   "metadata": {
    "scrolled": true
   },
   "outputs": [
    {
     "name": "stdout",
     "output_type": "stream",
     "text": [
      "root\n",
      " |-- userId: string (nullable = true)\n",
      " |-- level: integer (nullable = true)\n",
      "\n",
      "+------+-----+\n",
      "|userId|level|\n",
      "+------+-----+\n",
      "|100021|    0|\n",
      "|200021|    0|\n",
      "|200001|    0|\n",
      "|     6|    0|\n",
      "|300022|    1|\n",
      "|   132|    0|\n",
      "|   112|    0|\n",
      "|    79|    0|\n",
      "|200008|    0|\n",
      "|    16|    1|\n",
      "|200007|    1|\n",
      "|300015|    0|\n",
      "|    39|    0|\n",
      "|300014|    1|\n",
      "|    61|    0|\n",
      "|    56|    1|\n",
      "|300014|    0|\n",
      "|   100|    1|\n",
      "|300024|    1|\n",
      "|300023|    1|\n",
      "+------+-----+\n",
      "only showing top 20 rows\n",
      "\n"
     ]
    }
   ],
   "source": [
    "#The function would use an existing DataFrame and replace the values in the 'level' column based on a given dictionary. In this case, 'paid' values ​​would be replaced with '1' and 'free' values ​​would be replaced with '0'. Then the resulting DataFrame would display its schema and content. This approach allows you to convert the values ​​of the 'level' column into numeric variables for further analysis or modeling.\n",
    "level_df = create_supposed_df('level', {'paid': '1', 'free': '0'})"
   ]
  },
  {
   "cell_type": "code",
   "execution_count": 37,
   "metadata": {
    "scrolled": true
   },
   "outputs": [
    {
     "data": {
      "text/plain": [
       "17656"
      ]
     },
     "execution_count": 37,
     "metadata": {},
     "output_type": "execute_result"
    }
   ],
   "source": [
    "#number of different artists present in the 'artist' column of the DataFrame 'dfp'\n",
    "df1.artist.unique().shape[0]"
   ]
  },
  {
   "cell_type": "code",
   "execution_count": 38,
   "metadata": {
    "scrolled": true
   },
   "outputs": [
    {
     "data": {
      "text/html": [
       "<div>\n",
       "<style scoped>\n",
       "    .dataframe tbody tr th:only-of-type {\n",
       "        vertical-align: middle;\n",
       "    }\n",
       "\n",
       "    .dataframe tbody tr th {\n",
       "        vertical-align: top;\n",
       "    }\n",
       "\n",
       "    .dataframe thead th {\n",
       "        text-align: right;\n",
       "    }\n",
       "</style>\n",
       "<table border=\"1\" class=\"dataframe\">\n",
       "  <thead>\n",
       "    <tr style=\"text-align: right;\">\n",
       "      <th></th>\n",
       "      <th>userId</th>\n",
       "      <th>mean_hours</th>\n",
       "      <th>stdev_hours</th>\n",
       "    </tr>\n",
       "  </thead>\n",
       "  <tbody>\n",
       "    <tr>\n",
       "      <th>0</th>\n",
       "      <td>100010</td>\n",
       "      <td>2.656385</td>\n",
       "      <td>1.594089</td>\n",
       "    </tr>\n",
       "    <tr>\n",
       "      <th>1</th>\n",
       "      <td>200002</td>\n",
       "      <td>4.352263</td>\n",
       "      <td>3.481087</td>\n",
       "    </tr>\n",
       "    <tr>\n",
       "      <th>2</th>\n",
       "      <td>125</td>\n",
       "      <td>0.580309</td>\n",
       "      <td>0.000000</td>\n",
       "    </tr>\n",
       "    <tr>\n",
       "      <th>3</th>\n",
       "      <td>51</td>\n",
       "      <td>14.535440</td>\n",
       "      <td>11.600663</td>\n",
       "    </tr>\n",
       "    <tr>\n",
       "      <th>4</th>\n",
       "      <td>124</td>\n",
       "      <td>10.042779</td>\n",
       "      <td>9.370878</td>\n",
       "    </tr>\n",
       "  </tbody>\n",
       "</table>\n",
       "</div>"
      ],
      "text/plain": [
       "   userId  mean_hours  stdev_hours\n",
       "0  100010    2.656385     1.594089\n",
       "1  200002    4.352263     3.481087\n",
       "2     125    0.580309     0.000000\n",
       "3      51   14.535440    11.600663\n",
       "4     124   10.042779     9.370878"
      ]
     },
     "execution_count": 38,
     "metadata": {},
     "output_type": "execute_result"
    }
   ],
   "source": [
    "#The code performs some data processing to calculate the average length and standard deviation of the songs played by each user\n",
    "from pyspark.sql import functions as sF\n",
    "\n",
    "song_length = df.filter(df.page == 'NextSong') \\\n",
    "    .select('userId', 'sessionId', 'length') \\\n",
    "    .withColumn('hours', sF.expr('length / 3600')) \\\n",
    "    .groupBy('userId', 'sessionId') \\\n",
    "    .agg(sF.sum('hours').alias('total_hours'))\n",
    "\n",
    "song_length = song_length.groupBy('userId') \\\n",
    "    .agg(\n",
    "        sF.avg('total_hours').alias('mean_hours'),\n",
    "        sF.stddev('total_hours').alias('stdev_hours')\n",
    "    ).fillna(0)\n",
    "\n",
    "song_length.limit(5).toPandas()"
   ]
  },
  {
   "cell_type": "code",
   "execution_count": 39,
   "metadata": {},
   "outputs": [
    {
     "data": {
      "text/html": [
       "<div>\n",
       "<style scoped>\n",
       "    .dataframe tbody tr th:only-of-type {\n",
       "        vertical-align: middle;\n",
       "    }\n",
       "\n",
       "    .dataframe tbody tr th {\n",
       "        vertical-align: top;\n",
       "    }\n",
       "\n",
       "    .dataframe thead th {\n",
       "        text-align: right;\n",
       "    }\n",
       "</style>\n",
       "<table border=\"1\" class=\"dataframe\">\n",
       "  <thead>\n",
       "    <tr style=\"text-align: right;\">\n",
       "      <th></th>\n",
       "      <th>userId</th>\n",
       "      <th>About</th>\n",
       "      <th>Add Friend</th>\n",
       "      <th>Add to Playlist</th>\n",
       "      <th>Downgrade</th>\n",
       "      <th>Error</th>\n",
       "      <th>Help</th>\n",
       "      <th>Home</th>\n",
       "      <th>Login</th>\n",
       "      <th>Logout</th>\n",
       "      <th>...</th>\n",
       "      <th>Register</th>\n",
       "      <th>Roll Advert</th>\n",
       "      <th>Save Settings</th>\n",
       "      <th>Settings</th>\n",
       "      <th>Submit Downgrade</th>\n",
       "      <th>Submit Registration</th>\n",
       "      <th>Submit Upgrade</th>\n",
       "      <th>Thumbs Down</th>\n",
       "      <th>Thumbs Up</th>\n",
       "      <th>Upgrade</th>\n",
       "    </tr>\n",
       "  </thead>\n",
       "  <tbody>\n",
       "    <tr>\n",
       "      <th>0</th>\n",
       "      <td>200002</td>\n",
       "      <td>0.632911</td>\n",
       "      <td>0.843882</td>\n",
       "      <td>1.687764</td>\n",
       "      <td>1.054852</td>\n",
       "      <td>0.000000</td>\n",
       "      <td>0.421941</td>\n",
       "      <td>4.219409</td>\n",
       "      <td>0.0</td>\n",
       "      <td>1.054852</td>\n",
       "      <td>...</td>\n",
       "      <td>0.0</td>\n",
       "      <td>1.476793</td>\n",
       "      <td>0.000000</td>\n",
       "      <td>0.632911</td>\n",
       "      <td>0.0</td>\n",
       "      <td>0.0</td>\n",
       "      <td>0.21097</td>\n",
       "      <td>1.265823</td>\n",
       "      <td>4.430380</td>\n",
       "      <td>0.421941</td>\n",
       "    </tr>\n",
       "    <tr>\n",
       "      <th>1</th>\n",
       "      <td>100010</td>\n",
       "      <td>0.262467</td>\n",
       "      <td>1.049869</td>\n",
       "      <td>1.837270</td>\n",
       "      <td>0.000000</td>\n",
       "      <td>0.000000</td>\n",
       "      <td>0.524934</td>\n",
       "      <td>2.887139</td>\n",
       "      <td>0.0</td>\n",
       "      <td>1.312336</td>\n",
       "      <td>...</td>\n",
       "      <td>0.0</td>\n",
       "      <td>13.648294</td>\n",
       "      <td>0.000000</td>\n",
       "      <td>0.000000</td>\n",
       "      <td>0.0</td>\n",
       "      <td>0.0</td>\n",
       "      <td>0.00000</td>\n",
       "      <td>1.312336</td>\n",
       "      <td>4.461942</td>\n",
       "      <td>0.524934</td>\n",
       "    </tr>\n",
       "    <tr>\n",
       "      <th>2</th>\n",
       "      <td>125</td>\n",
       "      <td>0.000000</td>\n",
       "      <td>0.000000</td>\n",
       "      <td>0.000000</td>\n",
       "      <td>0.000000</td>\n",
       "      <td>0.000000</td>\n",
       "      <td>0.000000</td>\n",
       "      <td>0.000000</td>\n",
       "      <td>0.0</td>\n",
       "      <td>0.000000</td>\n",
       "      <td>...</td>\n",
       "      <td>0.0</td>\n",
       "      <td>11.111111</td>\n",
       "      <td>0.000000</td>\n",
       "      <td>0.000000</td>\n",
       "      <td>0.0</td>\n",
       "      <td>0.0</td>\n",
       "      <td>0.00000</td>\n",
       "      <td>0.000000</td>\n",
       "      <td>0.000000</td>\n",
       "      <td>0.000000</td>\n",
       "    </tr>\n",
       "    <tr>\n",
       "      <th>3</th>\n",
       "      <td>51</td>\n",
       "      <td>0.081235</td>\n",
       "      <td>1.137287</td>\n",
       "      <td>2.112104</td>\n",
       "      <td>0.934200</td>\n",
       "      <td>0.040617</td>\n",
       "      <td>0.487409</td>\n",
       "      <td>3.046304</td>\n",
       "      <td>0.0</td>\n",
       "      <td>0.974817</td>\n",
       "      <td>...</td>\n",
       "      <td>0.0</td>\n",
       "      <td>0.000000</td>\n",
       "      <td>0.040617</td>\n",
       "      <td>0.487409</td>\n",
       "      <td>0.0</td>\n",
       "      <td>0.0</td>\n",
       "      <td>0.00000</td>\n",
       "      <td>0.852965</td>\n",
       "      <td>4.061738</td>\n",
       "      <td>0.000000</td>\n",
       "    </tr>\n",
       "    <tr>\n",
       "      <th>4</th>\n",
       "      <td>124</td>\n",
       "      <td>0.145078</td>\n",
       "      <td>1.533679</td>\n",
       "      <td>2.445596</td>\n",
       "      <td>0.849741</td>\n",
       "      <td>0.124352</td>\n",
       "      <td>0.476684</td>\n",
       "      <td>3.647668</td>\n",
       "      <td>0.0</td>\n",
       "      <td>1.222798</td>\n",
       "      <td>...</td>\n",
       "      <td>0.0</td>\n",
       "      <td>0.082902</td>\n",
       "      <td>0.124352</td>\n",
       "      <td>0.414508</td>\n",
       "      <td>0.0</td>\n",
       "      <td>0.0</td>\n",
       "      <td>0.00000</td>\n",
       "      <td>0.849741</td>\n",
       "      <td>3.544041</td>\n",
       "      <td>0.000000</td>\n",
       "    </tr>\n",
       "  </tbody>\n",
       "</table>\n",
       "<p>5 rows × 21 columns</p>\n",
       "</div>"
      ],
      "text/plain": [
       "   userId     About  Add Friend  Add to Playlist  Downgrade     Error  \\\n",
       "0  200002  0.632911    0.843882         1.687764   1.054852  0.000000   \n",
       "1  100010  0.262467    1.049869         1.837270   0.000000  0.000000   \n",
       "2     125  0.000000    0.000000         0.000000   0.000000  0.000000   \n",
       "3      51  0.081235    1.137287         2.112104   0.934200  0.040617   \n",
       "4     124  0.145078    1.533679         2.445596   0.849741  0.124352   \n",
       "\n",
       "       Help      Home  Login    Logout    ...     Register  Roll Advert  \\\n",
       "0  0.421941  4.219409    0.0  1.054852    ...          0.0     1.476793   \n",
       "1  0.524934  2.887139    0.0  1.312336    ...          0.0    13.648294   \n",
       "2  0.000000  0.000000    0.0  0.000000    ...          0.0    11.111111   \n",
       "3  0.487409  3.046304    0.0  0.974817    ...          0.0     0.000000   \n",
       "4  0.476684  3.647668    0.0  1.222798    ...          0.0     0.082902   \n",
       "\n",
       "   Save Settings  Settings  Submit Downgrade  Submit Registration  \\\n",
       "0       0.000000  0.632911               0.0                  0.0   \n",
       "1       0.000000  0.000000               0.0                  0.0   \n",
       "2       0.000000  0.000000               0.0                  0.0   \n",
       "3       0.040617  0.487409               0.0                  0.0   \n",
       "4       0.124352  0.414508               0.0                  0.0   \n",
       "\n",
       "   Submit Upgrade  Thumbs Down  Thumbs Up   Upgrade  \n",
       "0         0.21097     1.265823   4.430380  0.421941  \n",
       "1         0.00000     1.312336   4.461942  0.524934  \n",
       "2         0.00000     0.000000   0.000000  0.000000  \n",
       "3         0.00000     0.852965   4.061738  0.000000  \n",
       "4         0.00000     0.849741   3.544041  0.000000  \n",
       "\n",
       "[5 rows x 21 columns]"
      ]
     },
     "execution_count": 39,
     "metadata": {},
     "output_type": "execute_result"
    }
   ],
   "source": [
    "#Perform data processing to obtain the distribution of the pages visited by each user in the form of normalized percentages. This is achieved by creating a new DataFrame 'user_page_distribution' containing the 'userId' columns and the pages columns, where each value represents the percentage of visits to that page per user\n",
    "from functools import reduce\n",
    "\n",
    "user_page_distribution = df.groupby('userId').pivot('page').count().na.fill(0)\n",
    "user_page_distribution = user_page_distribution.drop(*['Cancel','Cancellation Confirmation'])\n",
    "pages_cols = user_page_distribution.columns[1:]\n",
    "new_df = user_page_distribution.withColumn('total', sum(user_page_distribution[col] for col in pages_cols))\n",
    "for col in pages_cols:\n",
    "    new_df = new_df.withColumn(f'norm_{col}', new_df[col] / new_df['total'] * 100.)\n",
    "new_df = new_df.drop('total')\n",
    "new_df = new_df.drop(*pages_cols)\n",
    "oldColumns = new_df.columns\n",
    "newColumns = ['userId'] + pages_cols\n",
    "user_page_distribution = reduce(lambda new_df, idx: new_df.withColumnRenamed(oldColumns[idx], newColumns[idx]), range(len(oldColumns)), new_df)\n",
    "new_df=None\n",
    "\n",
    "user_page_distribution.toPandas().head()"
   ]
  },
  {
   "cell_type": "code",
   "execution_count": 40,
   "metadata": {},
   "outputs": [
    {
     "name": "stdout",
     "output_type": "stream",
     "text": [
      "+------+------------------+------------------+\n",
      "|userId|        mean_songs|       stdev_songs|\n",
      "+------+------------------+------------------+\n",
      "|100010|39.285714285714285| 22.96166577663945|\n",
      "|200002|              64.5|51.309843110264914|\n",
      "|   125|               8.0|               0.0|\n",
      "|    51|             211.1| 168.1483802413148|\n",
      "|   124|145.67857142857142|137.40587446912284|\n",
      "|     7|21.428571428571427|23.859709015109853|\n",
      "|    54| 81.17142857142858|  98.4110484335042|\n",
      "|    15|136.71428571428572| 88.69084470262945|\n",
      "|   155|136.66666666666666| 96.74433661288224|\n",
      "|100014|42.833333333333336|24.400136611639425|\n",
      "|   132|             120.5|  119.663973971562|\n",
      "|   154|              28.0|13.892443989449804|\n",
      "|   101|             179.7|216.24320156301383|\n",
      "|    11|           40.4375| 38.78826068112189|\n",
      "|300017|59.540983606557376| 53.14056008063013|\n",
      "|   138|             138.0|170.34838252408335|\n",
      "|    29| 89.05882352941177| 125.9364777772414|\n",
      "|    69|             125.0|116.83535423834688|\n",
      "|100021|              46.0| 52.53094326204318|\n",
      "|    42| 87.14634146341463| 68.40342132364789|\n",
      "+------+------------------+------------------+\n",
      "only showing top 20 rows\n",
      "\n"
     ]
    }
   ],
   "source": [
    "#calculate the average and standard deviation of the number of songs played per session for each user\n",
    "\n",
    "song_user_df = (df.filter(df.page == 'NextSong')\n",
    "                  .groupBy('userId', 'sessionId')\n",
    "                  .agg(F.count('*').alias('count'))\n",
    "                  .groupBy('userId')\n",
    "                  .agg(F.avg('count').alias('mean_songs'),\n",
    "                       F.stddev('count').alias('stdev_songs'))\n",
    "                  .na.fill(0))\n",
    "\n",
    "song_user_df.show()"
   ]
  },
  {
   "cell_type": "code",
   "execution_count": 41,
   "metadata": {},
   "outputs": [
    {
     "name": "stdout",
     "output_type": "stream",
     "text": [
      "+------+-----------+\n",
      "|userId|num_artists|\n",
      "+------+-----------+\n",
      "|100010|        253|\n",
      "|200002|        340|\n",
      "|   125|          9|\n",
      "|    51|       1386|\n",
      "|   124|       2233|\n",
      "|     7|        143|\n",
      "|    15|       1303|\n",
      "|    54|       1745|\n",
      "|   155|        644|\n",
      "|   132|       1300|\n",
      "|   154|         79|\n",
      "|100014|        234|\n",
      "|   101|       1242|\n",
      "|    11|        535|\n",
      "|   138|       1333|\n",
      "|300017|       2071|\n",
      "|    29|       1805|\n",
      "|    69|        866|\n",
      "|100021|        208|\n",
      "|    42|       2074|\n",
      "+------+-----------+\n",
      "only showing top 20 rows\n",
      "\n"
     ]
    }
   ],
   "source": [
    "#calculates the number of unique artists listened to by each user\n",
    "artists_user_fans = (\n",
    "    df.select('userId', 'artist')\n",
    "    .dropDuplicates()\n",
    "    .groupBy('userId')\n",
    "    .count()\n",
    "    .withColumnRenamed('count', 'num_artists')\n",
    ")\n",
    "\n",
    "artists_user_fans.show()"
   ]
  },
  {
   "cell_type": "code",
   "execution_count": 42,
   "metadata": {},
   "outputs": [
    {
     "name": "stdout",
     "output_type": "stream",
     "text": [
      "+------+---------+-------------------+\n",
      "|userId|sessionId|      session_hours|\n",
      "+------+---------+-------------------+\n",
      "|      |      164| 344.96777777777777|\n",
      "|      |      268|           755.1225|\n",
      "|      |      565| 16.551666666666666|\n",
      "|      |      814|  6.093333333333334|\n",
      "|      |     1053| 2.3544444444444443|\n",
      "|      |     1183|                0.0|\n",
      "|      |     1305| 14.490833333333333|\n",
      "|      |     1446|  26.99138888888889|\n",
      "|      |     1592| 1.0722222222222222|\n",
      "|   101|      635| 55.000277777777775|\n",
      "|   110|     1776| 1.3908333333333334|\n",
      "|   120|      627| 15.855555555555556|\n",
      "|   122|      691|0.30833333333333335|\n",
      "|   140|      798|0.16027777777777777|\n",
      "|   153|     1794|  4.196944444444444|\n",
      "|    29|     1030| 0.7727777777777778|\n",
      "|300011|       60| 1.7230555555555556|\n",
      "|    35|     2270| 0.6547222222222222|\n",
      "|    42|      433| 1.2455555555555555|\n",
      "|     8|     1200| 0.6555555555555556|\n",
      "+------+---------+-------------------+\n",
      "only showing top 20 rows\n",
      "\n"
     ]
    }
   ],
   "source": [
    "#calculates the duration of each user session in hours from the recorded timestamps\n",
    "from pyspark.sql.functions import col, expr\n",
    "\n",
    "session_end = (\n",
    "    df.groupBy('userId', 'sessionId')\n",
    "    .agg(expr('max(ts)').alias('end'))\n",
    ")\n",
    "\n",
    "session_start = (\n",
    "    df.groupBy('userId', 'sessionId')\n",
    "    .agg(expr('min(ts)').alias('start'))\n",
    ")\n",
    "\n",
    "ticks_per_hour = 1000 * 60 * 60\n",
    "\n",
    "session_df = (\n",
    "    session_start.join(session_end, ['userId', 'sessionId'])\n",
    "    .withColumn('session_hours', (col('end') - col('start')) / ticks_per_hour)\n",
    "    .select('userId', 'sessionId', 'session_hours')\n",
    ")\n",
    "\n",
    "session_df.show()"
   ]
  },
  {
   "cell_type": "code",
   "execution_count": 43,
   "metadata": {},
   "outputs": [
    {
     "name": "stdout",
     "output_type": "stream",
     "text": [
      "+------+-------------------+------------------+\n",
      "|userId|     mean_session_h|   stdev_session_h|\n",
      "+------+-------------------+------------------+\n",
      "|100010|  2.574722222222223|1.5888758093219746|\n",
      "|200002|               4.44| 3.615756029749058|\n",
      "|   125|0.49277777777777776|               0.0|\n",
      "|    51| 14.539277777777775|11.671992558014606|\n",
      "|   124|  9.649904214559387| 9.380928117286047|\n",
      "|     7| 1.4606746031746032|1.7396404190170895|\n",
      "|    54|  5.371493993993996| 6.722524606551977|\n",
      "|    15|  8.804722222222223| 6.433439835350866|\n",
      "|   155|   9.14287037037037| 6.519267089541098|\n",
      "|100014| 3.0802314814814817|1.7541325317050616|\n",
      "|   132|  8.315850694444444| 8.396946451327924|\n",
      "|   154| 1.8447222222222222|0.8584119435415696|\n",
      "|   101| 13.626333333333331|16.632464583892272|\n",
      "|    11| 2.6896180555555556| 2.757270987984882|\n",
      "|300017| 3.8887345679012344|3.6192211259588243|\n",
      "|   138|  9.403777777777778|11.696715229237652|\n",
      "|    29|  6.095947712418298| 8.745464983754097|\n",
      "|    69|  8.778086419753087|  8.27700901823203|\n",
      "|100021|  3.587111111111111|3.9257923071906813|\n",
      "|    42|  5.492712765957448|5.0428513583992505|\n",
      "+------+-------------------+------------------+\n",
      "only showing top 20 rows\n",
      "\n"
     ]
    }
   ],
   "source": [
    "#calculates the mean and standard deviation of session durations per user\n",
    "from pyspark.sql.functions import avg, stddev, col\n",
    "\n",
    "session_user_df = (\n",
    "    session_df.groupBy('userId')\n",
    "    .agg(avg('session_hours').alias('mean_session_h'), stddev('session_hours').alias('stdev_session_h'))\n",
    "    .na.fill(0)\n",
    ")\n",
    "\n",
    "session_user_df.show()"
   ]
  },
  {
   "cell_type": "code",
   "execution_count": 44,
   "metadata": {},
   "outputs": [
    {
     "name": "stdout",
     "output_type": "stream",
     "text": [
      "+------+------------+\n",
      "|userId|num_sessions|\n",
      "+------+------------+\n",
      "|100010|           7|\n",
      "|200002|           6|\n",
      "|   125|           1|\n",
      "|    51|          10|\n",
      "|   124|          29|\n",
      "|     7|           7|\n",
      "|    54|          37|\n",
      "|    15|          15|\n",
      "|   155|           6|\n",
      "|100014|           6|\n",
      "|   132|          16|\n",
      "|   154|           3|\n",
      "|   101|          10|\n",
      "|    11|          16|\n",
      "|300017|          63|\n",
      "|   138|          15|\n",
      "|    29|          34|\n",
      "|    69|           9|\n",
      "|100021|           5|\n",
      "|    42|          47|\n",
      "+------+------------+\n",
      "only showing top 20 rows\n",
      "\n"
     ]
    }
   ],
   "source": [
    "#calculates the number of sessions for each user, eliminating duplicate sessions\n",
    "from pyspark.sql.functions import count\n",
    "\n",
    "num_sessions_user_df = (\n",
    "    df.select('userId', 'sessionId')\n",
    "    .dropDuplicates()\n",
    "    .groupby('userId')\n",
    "    .agg(count('*').alias('num_sessions'))\n",
    ")\n",
    "\n",
    "num_sessions_user_df.show()"
   ]
  },
  {
   "cell_type": "code",
   "execution_count": 45,
   "metadata": {},
   "outputs": [
    {
     "name": "stdout",
     "output_type": "stream",
     "text": [
      "+------+-----------------------+\n",
      "|userId|days_total_subscription|\n",
      "+------+-----------------------+\n",
      "|100010|      55.64365740740741|\n",
      "|200002|      70.07462962962963|\n",
      "|   125|      71.31688657407408|\n",
      "|   124|     131.55591435185184|\n",
      "|    51|     19.455844907407407|\n",
      "|     7|      72.77818287037037|\n",
      "|    15|     56.513576388888886|\n",
      "|    54|     110.75168981481481|\n",
      "|   155|     23.556018518518517|\n",
      "|100014|      85.08340277777778|\n",
      "|   132|       66.8891087962963|\n",
      "|   154|     23.872037037037035|\n",
      "|   101|             53.9659375|\n",
      "|    11|     124.47825231481481|\n",
      "|   138|      66.62668981481481|\n",
      "|300017|      74.35851851851852|\n",
      "|100021|      64.73886574074074|\n",
      "|    29|     60.104050925925925|\n",
      "|    69|      71.42444444444445|\n",
      "|   112|      87.46262731481481|\n",
      "+------+-----------------------+\n",
      "only showing top 20 rows\n",
      "\n"
     ]
    }
   ],
   "source": [
    "#calculates the number of days since subscription for each user\n",
    "from pyspark.sql.functions import expr\n",
    "\n",
    "def days_since_subscription(df, col_name='days_on'):\n",
    "    reg_df = df.select('userId', 'registration') \\\n",
    "        .dropDuplicates() \\\n",
    "        .withColumnRenamed('registration', 'start') \\\n",
    "        .join(df.groupBy('userId').max('ts').withColumnRenamed('max(ts)', 'end'), 'userId') \\\n",
    "        .withColumn(col_name, F.expr('(end - start) / (1000 * 60 * 60 * 24)')) \\\n",
    "        .select('userId', col_name)\n",
    "    \n",
    "    return reg_df\n",
    "\n",
    "reg_df = days_since_subscription(df, col_name='days_total_subscription')\n",
    "reg_df.show()"
   ]
  },
  {
   "cell_type": "code",
   "execution_count": 46,
   "metadata": {},
   "outputs": [
    {
     "name": "stdout",
     "output_type": "stream",
     "text": [
      "+------+----------------------+\n",
      "|userId|days_paid_subscription|\n",
      "+------+----------------------+\n",
      "|200002|     70.07462962962963|\n",
      "|   124|    131.55591435185184|\n",
      "|    51|    19.455844907407407|\n",
      "|    15|    56.513576388888886|\n",
      "|    54|    110.75168981481481|\n",
      "|   155|    23.556018518518517|\n",
      "|100014|     85.08340277777778|\n",
      "|   132|      66.8891087962963|\n",
      "|   101|            53.9659375|\n",
      "|    11|    124.47825231481481|\n",
      "|   138|     66.62668981481481|\n",
      "|300017|     74.35851851851852|\n",
      "|    29|    60.104050925925925|\n",
      "|    69|     71.42444444444445|\n",
      "|    42|     67.11364583333334|\n",
      "|    73|     49.76208333333334|\n",
      "|    87|    59.125856481481485|\n",
      "|     3|     80.89527777777778|\n",
      "|   113|    123.53140046296296|\n",
      "|    30|     63.06664351851852|\n",
      "+------+----------------------+\n",
      "only showing top 20 rows\n",
      "\n"
     ]
    }
   ],
   "source": [
    "#filters the original DataFrame to get only the rows with 'paid' subscription level, then calculates the number of days since paid subscription for each user\n",
    "from pyspark.sql.functions import expr\n",
    "\n",
    "df_paid = df.filter(expr(\"level = 'paid'\"))\n",
    "paid_df = days_since_subscription(df_paid, col_name='days_paid_subscription')\n",
    "paid_df.show()"
   ]
  },
  {
   "cell_type": "code",
   "execution_count": 47,
   "metadata": {},
   "outputs": [
    {
     "name": "stdout",
     "output_type": "stream",
     "text": [
      "+------+----------------------+\n",
      "|userId|days_free_subscription|\n",
      "+------+----------------------+\n",
      "|100010|     55.64365740740741|\n",
      "|200002|     41.49415509259259|\n",
      "|   125|     71.31688657407408|\n",
      "|     7|     72.77818287037037|\n",
      "|    54|     96.45179398148149|\n",
      "|   155|               4.14625|\n",
      "|   132|    16.472384259259258|\n",
      "|   154|    23.872037037037035|\n",
      "|   101|     39.77072916666667|\n",
      "|    11|     113.7862037037037|\n",
      "|   138|    27.158344907407407|\n",
      "|100021|     64.73886574074074|\n",
      "|    29|    23.483113425925925|\n",
      "|    69|    24.491319444444443|\n",
      "|   112|     87.46262731481481|\n",
      "|    42|    12.798796296296297|\n",
      "|    73|     28.26773148148148|\n",
      "|    87|     58.49888888888889|\n",
      "|200010|    38.142488425925926|\n",
      "|    64|     49.15244212962963|\n",
      "+------+----------------------+\n",
      "only showing top 20 rows\n",
      "\n"
     ]
    }
   ],
   "source": [
    "#The code filters and processes two different subsets of the original data frame df based on the level (\"free\" and \"paid\"). Then calculate the subscription duration in days for each user in each subset\n",
    "df_free = df.filter(expr(\"level = 'free'\"))\n",
    "free_df = days_since_subscription(df_free, col_name='days_free_subscription')\n",
    "free_df.show()"
   ]
  },
  {
   "cell_type": "markdown",
   "metadata": {},
   "source": [
    "Collect all"
   ]
  },
  {
   "cell_type": "code",
   "execution_count": 48,
   "metadata": {},
   "outputs": [],
   "source": [
    "#both lists contain a collection of dataframes related to various user characteristics. The names in user_features_names provided a reference to identify each data frame in user_features.\n",
    "user_features = []\n",
    "user_features_names = []\n",
    "\n",
    "user_features.append(gender_df)\n",
    "user_features_names.append('gender_df')\n",
    "\n",
    "user_features.append(song_length)\n",
    "user_features_names.append('song_length')\n",
    "\n",
    "user_features.append(user_page_distribution)\n",
    "user_features_names.append('user_page_distribution')\n",
    "\n",
    "user_features.append(song_user_df)\n",
    "user_features_names.append('song_user_df')\n",
    "\n",
    "user_features.append(artists_user_fans)\n",
    "user_features_names.append('artists_user_fans')\n",
    "\n",
    "user_features.append(session_user_df)\n",
    "user_features_names.append('session_user_df')\n",
    "\n",
    "user_features.append(num_sessions_user_df)\n",
    "user_features_names.append('num_sessions_user_df')\n",
    "\n",
    "user_features.append(reg_df)\n",
    "user_features_names.append('reg_df')"
   ]
  },
  {
   "cell_type": "code",
   "execution_count": 49,
   "metadata": {},
   "outputs": [],
   "source": [
    "#performs the union of multiple dataframes of user characteristics with a base dataframe, generating a final dataframe with all the characteristics combined. Each feature dataframe is joined using the 'userId' column and the result is sorted by 'userId'\n",
    "\n",
    "final_df = churn_users\n",
    "\n",
    "def join_features(base, new):\n",
    "    return base.join(new, 'userId', how='inner').dropDuplicates()\n",
    "\n",
    "for feature, feature_name in zip(user_features, user_features_names):\n",
    "    final_df = join_features(final_df, feature)\n",
    "\n",
    "final_df = final_df.orderBy('userId', ascending=True)"
   ]
  },
  {
   "cell_type": "code",
   "execution_count": 50,
   "metadata": {},
   "outputs": [],
   "source": [
    "#the code deletes a directory if it already exists and then saves the final_df dataframe in CSV format\n",
    "import shutil\n",
    "import os\n",
    "\n",
    "directory_path = 'user_dataset.CSV'\n",
    "\n",
    "if os.path.exists(directory_path):\n",
    "    shutil.rmtree(directory_path)\n",
    "\n",
    "final_df.write.save('user_dataset.CSV', format='csv', header=True)"
   ]
  },
  {
   "cell_type": "code",
   "execution_count": 51,
   "metadata": {},
   "outputs": [
    {
     "data": {
      "text/html": [
       "<div>\n",
       "<style scoped>\n",
       "    .dataframe tbody tr th:only-of-type {\n",
       "        vertical-align: middle;\n",
       "    }\n",
       "\n",
       "    .dataframe tbody tr th {\n",
       "        vertical-align: top;\n",
       "    }\n",
       "\n",
       "    .dataframe thead th {\n",
       "        text-align: right;\n",
       "    }\n",
       "</style>\n",
       "<table border=\"1\" class=\"dataframe\">\n",
       "  <thead>\n",
       "    <tr style=\"text-align: right;\">\n",
       "      <th></th>\n",
       "      <th>userId</th>\n",
       "      <th>churn</th>\n",
       "      <th>gender</th>\n",
       "      <th>mean_hours</th>\n",
       "      <th>stdev_hours</th>\n",
       "      <th>About</th>\n",
       "      <th>Add Friend</th>\n",
       "      <th>Add to Playlist</th>\n",
       "      <th>Downgrade</th>\n",
       "      <th>Error</th>\n",
       "      <th>...</th>\n",
       "      <th>Thumbs Down</th>\n",
       "      <th>Thumbs Up</th>\n",
       "      <th>Upgrade</th>\n",
       "      <th>mean_songs</th>\n",
       "      <th>stdev_songs</th>\n",
       "      <th>num_artists</th>\n",
       "      <th>mean_session_h</th>\n",
       "      <th>stdev_session_h</th>\n",
       "      <th>num_sessions</th>\n",
       "      <th>days_total_subscription</th>\n",
       "    </tr>\n",
       "  </thead>\n",
       "  <tbody>\n",
       "    <tr>\n",
       "      <th>0</th>\n",
       "      <td>10</td>\n",
       "      <td>0</td>\n",
       "      <td>1</td>\n",
       "      <td>7.725295</td>\n",
       "      <td>8.985657</td>\n",
       "      <td>0.251572</td>\n",
       "      <td>1.509434</td>\n",
       "      <td>1.132075</td>\n",
       "      <td>0.880503</td>\n",
       "      <td>0.000000</td>\n",
       "      <td>...</td>\n",
       "      <td>0.503145</td>\n",
       "      <td>4.654088</td>\n",
       "      <td>0.000000</td>\n",
       "      <td>112.166667</td>\n",
       "      <td>133.324291</td>\n",
       "      <td>566</td>\n",
       "      <td>7.662454</td>\n",
       "      <td>8.991061</td>\n",
       "      <td>6</td>\n",
       "      <td>51.762650</td>\n",
       "    </tr>\n",
       "    <tr>\n",
       "      <th>1</th>\n",
       "      <td>100</td>\n",
       "      <td>0</td>\n",
       "      <td>1</td>\n",
       "      <td>5.497368</td>\n",
       "      <td>5.137933</td>\n",
       "      <td>0.373367</td>\n",
       "      <td>1.524580</td>\n",
       "      <td>1.897946</td>\n",
       "      <td>0.933416</td>\n",
       "      <td>0.093342</td>\n",
       "      <td>...</td>\n",
       "      <td>0.840075</td>\n",
       "      <td>4.604854</td>\n",
       "      <td>0.031114</td>\n",
       "      <td>78.882353</td>\n",
       "      <td>74.057621</td>\n",
       "      <td>1706</td>\n",
       "      <td>5.275317</td>\n",
       "      <td>5.133618</td>\n",
       "      <td>35</td>\n",
       "      <td>64.873773</td>\n",
       "    </tr>\n",
       "    <tr>\n",
       "      <th>2</th>\n",
       "      <td>100001</td>\n",
       "      <td>1</td>\n",
       "      <td>0</td>\n",
       "      <td>2.435677</td>\n",
       "      <td>1.055065</td>\n",
       "      <td>0.000000</td>\n",
       "      <td>1.081081</td>\n",
       "      <td>1.621622</td>\n",
       "      <td>0.000000</td>\n",
       "      <td>0.540541</td>\n",
       "      <td>...</td>\n",
       "      <td>1.081081</td>\n",
       "      <td>4.324324</td>\n",
       "      <td>1.081081</td>\n",
       "      <td>33.250000</td>\n",
       "      <td>16.839933</td>\n",
       "      <td>126</td>\n",
       "      <td>2.469306</td>\n",
       "      <td>1.051126</td>\n",
       "      <td>4</td>\n",
       "      <td>44.800220</td>\n",
       "    </tr>\n",
       "    <tr>\n",
       "      <th>3</th>\n",
       "      <td>100002</td>\n",
       "      <td>0</td>\n",
       "      <td>0</td>\n",
       "      <td>3.441661</td>\n",
       "      <td>5.918537</td>\n",
       "      <td>0.000000</td>\n",
       "      <td>0.458716</td>\n",
       "      <td>2.293578</td>\n",
       "      <td>0.917431</td>\n",
       "      <td>0.000000</td>\n",
       "      <td>...</td>\n",
       "      <td>0.000000</td>\n",
       "      <td>2.293578</td>\n",
       "      <td>0.000000</td>\n",
       "      <td>48.750000</td>\n",
       "      <td>84.428964</td>\n",
       "      <td>185</td>\n",
       "      <td>3.353056</td>\n",
       "      <td>5.901765</td>\n",
       "      <td>4</td>\n",
       "      <td>160.472072</td>\n",
       "    </tr>\n",
       "    <tr>\n",
       "      <th>4</th>\n",
       "      <td>100003</td>\n",
       "      <td>1</td>\n",
       "      <td>0</td>\n",
       "      <td>1.709225</td>\n",
       "      <td>2.265005</td>\n",
       "      <td>0.000000</td>\n",
       "      <td>0.000000</td>\n",
       "      <td>2.631579</td>\n",
       "      <td>0.000000</td>\n",
       "      <td>0.000000</td>\n",
       "      <td>...</td>\n",
       "      <td>0.000000</td>\n",
       "      <td>3.947368</td>\n",
       "      <td>0.000000</td>\n",
       "      <td>25.500000</td>\n",
       "      <td>33.234019</td>\n",
       "      <td>51</td>\n",
       "      <td>1.651944</td>\n",
       "      <td>2.260385</td>\n",
       "      <td>2</td>\n",
       "      <td>22.748113</td>\n",
       "    </tr>\n",
       "  </tbody>\n",
       "</table>\n",
       "<p>5 rows × 32 columns</p>\n",
       "</div>"
      ],
      "text/plain": [
       "   userId  churn  gender  mean_hours  stdev_hours     About  Add Friend  \\\n",
       "0      10      0       1    7.725295     8.985657  0.251572    1.509434   \n",
       "1     100      0       1    5.497368     5.137933  0.373367    1.524580   \n",
       "2  100001      1       0    2.435677     1.055065  0.000000    1.081081   \n",
       "3  100002      0       0    3.441661     5.918537  0.000000    0.458716   \n",
       "4  100003      1       0    1.709225     2.265005  0.000000    0.000000   \n",
       "\n",
       "   Add to Playlist  Downgrade     Error           ...             Thumbs Down  \\\n",
       "0         1.132075   0.880503  0.000000           ...                0.503145   \n",
       "1         1.897946   0.933416  0.093342           ...                0.840075   \n",
       "2         1.621622   0.000000  0.540541           ...                1.081081   \n",
       "3         2.293578   0.917431  0.000000           ...                0.000000   \n",
       "4         2.631579   0.000000  0.000000           ...                0.000000   \n",
       "\n",
       "   Thumbs Up   Upgrade  mean_songs  stdev_songs  num_artists  mean_session_h  \\\n",
       "0   4.654088  0.000000  112.166667   133.324291          566        7.662454   \n",
       "1   4.604854  0.031114   78.882353    74.057621         1706        5.275317   \n",
       "2   4.324324  1.081081   33.250000    16.839933          126        2.469306   \n",
       "3   2.293578  0.000000   48.750000    84.428964          185        3.353056   \n",
       "4   3.947368  0.000000   25.500000    33.234019           51        1.651944   \n",
       "\n",
       "   stdev_session_h  num_sessions  days_total_subscription  \n",
       "0         8.991061             6                51.762650  \n",
       "1         5.133618            35                64.873773  \n",
       "2         1.051126             4                44.800220  \n",
       "3         5.901765             4               160.472072  \n",
       "4         2.260385             2                22.748113  \n",
       "\n",
       "[5 rows x 32 columns]"
      ]
     },
     "execution_count": 51,
     "metadata": {},
     "output_type": "execute_result"
    }
   ],
   "source": [
    "#convert the Spark DataFrame to a Pandas DataFrame\n",
    "final_df1 = final_df.toPandas()\n",
    "final_df1.head()"
   ]
  },
  {
   "cell_type": "code",
   "execution_count": 52,
   "metadata": {},
   "outputs": [],
   "source": [
    "final_df1.to_csv('user_dataset_definitive.CSV', index=False)"
   ]
  },
  {
   "cell_type": "code",
   "execution_count": 53,
   "metadata": {},
   "outputs": [
    {
     "data": {
      "text/html": [
       "<div>\n",
       "<style scoped>\n",
       "    .dataframe tbody tr th:only-of-type {\n",
       "        vertical-align: middle;\n",
       "    }\n",
       "\n",
       "    .dataframe tbody tr th {\n",
       "        vertical-align: top;\n",
       "    }\n",
       "\n",
       "    .dataframe thead th {\n",
       "        text-align: right;\n",
       "    }\n",
       "</style>\n",
       "<table border=\"1\" class=\"dataframe\">\n",
       "  <thead>\n",
       "    <tr style=\"text-align: right;\">\n",
       "      <th></th>\n",
       "      <th>userId</th>\n",
       "      <th>churn</th>\n",
       "      <th>gender</th>\n",
       "      <th>mean_hours</th>\n",
       "      <th>stdev_hours</th>\n",
       "      <th>About</th>\n",
       "      <th>Add Friend</th>\n",
       "      <th>Add to Playlist</th>\n",
       "      <th>Downgrade</th>\n",
       "      <th>Error</th>\n",
       "      <th>...</th>\n",
       "      <th>Thumbs Down</th>\n",
       "      <th>Thumbs Up</th>\n",
       "      <th>Upgrade</th>\n",
       "      <th>mean_songs</th>\n",
       "      <th>stdev_songs</th>\n",
       "      <th>num_artists</th>\n",
       "      <th>mean_session_h</th>\n",
       "      <th>stdev_session_h</th>\n",
       "      <th>num_sessions</th>\n",
       "      <th>days_total_subscription</th>\n",
       "    </tr>\n",
       "  </thead>\n",
       "  <tbody>\n",
       "    <tr>\n",
       "      <th>0</th>\n",
       "      <td>30</td>\n",
       "      <td>0</td>\n",
       "      <td>1</td>\n",
       "      <td>3.5695262464285724</td>\n",
       "      <td>4.828511661476807</td>\n",
       "      <td>0.16901408450704225</td>\n",
       "      <td>1.4084507042253522</td>\n",
       "      <td>2.647887323943662</td>\n",
       "      <td>0.3380281690140845</td>\n",
       "      <td>0.056338028169014086</td>\n",
       "      <td>...</td>\n",
       "      <td>0.9577464788732395</td>\n",
       "      <td>3.492957746478873</td>\n",
       "      <td>0.7887323943661971</td>\n",
       "      <td>50.607142857142854</td>\n",
       "      <td>68.92579976333879</td>\n",
       "      <td>1019</td>\n",
       "      <td>3.0599045138888887</td>\n",
       "      <td>4.655638231407505</td>\n",
       "      <td>32</td>\n",
       "      <td>63.06664351851852</td>\n",
       "    </tr>\n",
       "    <tr>\n",
       "      <th>1</th>\n",
       "      <td>300001</td>\n",
       "      <td>1</td>\n",
       "      <td>0</td>\n",
       "      <td>7.08366019133987</td>\n",
       "      <td>6.033745302256485</td>\n",
       "      <td>0.04616805170821791</td>\n",
       "      <td>1.3850415512465373</td>\n",
       "      <td>3.1855955678670362</td>\n",
       "      <td>0.41551246537396125</td>\n",
       "      <td>0.13850415512465375</td>\n",
       "      <td>...</td>\n",
       "      <td>0.7848568790397045</td>\n",
       "      <td>6.832871652816251</td>\n",
       "      <td>0.09233610341643582</td>\n",
       "      <td>102.88235294117646</td>\n",
       "      <td>88.12908313444346</td>\n",
       "      <td>1202</td>\n",
       "      <td>6.367543859649123</td>\n",
       "      <td>6.150871757879998</td>\n",
       "      <td>19</td>\n",
       "      <td>188.3117824074074</td>\n",
       "    </tr>\n",
       "    <tr>\n",
       "      <th>2</th>\n",
       "      <td>91</td>\n",
       "      <td>0</td>\n",
       "      <td>1</td>\n",
       "      <td>19.746496319444457</td>\n",
       "      <td>23.04353070827294</td>\n",
       "      <td>0.16589250165892502</td>\n",
       "      <td>1.39349701393497</td>\n",
       "      <td>2.12342402123424</td>\n",
       "      <td>0.7299270072992701</td>\n",
       "      <td>0.09953550099535502</td>\n",
       "      <td>...</td>\n",
       "      <td>0.7962840079628402</td>\n",
       "      <td>4.11413404114134</td>\n",
       "      <td>0.033178500331785</td>\n",
       "      <td>286.6666666666667</td>\n",
       "      <td>337.84426885770904</td>\n",
       "      <td>1619</td>\n",
       "      <td>19.665</td>\n",
       "      <td>23.019357929090734</td>\n",
       "      <td>9</td>\n",
       "      <td>116.02526620370371</td>\n",
       "    </tr>\n",
       "    <tr>\n",
       "      <th>3</th>\n",
       "      <td>92</td>\n",
       "      <td>0</td>\n",
       "      <td>0</td>\n",
       "      <td>4.932186793551587</td>\n",
       "      <td>6.091381883859682</td>\n",
       "      <td>0.29045643153526973</td>\n",
       "      <td>1.5214384508990317</td>\n",
       "      <td>2.503457814661134</td>\n",
       "      <td>0.9405255878284924</td>\n",
       "      <td>0.04149377593360996</td>\n",
       "      <td>...</td>\n",
       "      <td>0.9958506224066389</td>\n",
       "      <td>4.0387275242047025</td>\n",
       "      <td>0.06915629322268327</td>\n",
       "      <td>70.77380952380952</td>\n",
       "      <td>86.9796197137792</td>\n",
       "      <td>2905</td>\n",
       "      <td>4.745203488372092</td>\n",
       "      <td>6.054084867345142</td>\n",
       "      <td>86</td>\n",
       "      <td>83.52885416666666</td>\n",
       "    </tr>\n",
       "    <tr>\n",
       "      <th>4</th>\n",
       "      <td>200008</td>\n",
       "      <td>0</td>\n",
       "      <td>0</td>\n",
       "      <td>7.609977063703702</td>\n",
       "      <td>7.294883458281476</td>\n",
       "      <td>0.44731610337972166</td>\n",
       "      <td>1.341948310139165</td>\n",
       "      <td>2.2365805168986084</td>\n",
       "      <td>1.1928429423459244</td>\n",
       "      <td>0.14910536779324055</td>\n",
       "      <td>...</td>\n",
       "      <td>2.584493041749503</td>\n",
       "      <td>3.3797216699801194</td>\n",
       "      <td>0.049701789264413515</td>\n",
       "      <td>111.26666666666667</td>\n",
       "      <td>107.38613016763829</td>\n",
       "      <td>1160</td>\n",
       "      <td>7.5379259259259275</td>\n",
       "      <td>7.284556907097743</td>\n",
       "      <td>15</td>\n",
       "      <td>115.18381944444444</td>\n",
       "    </tr>\n",
       "  </tbody>\n",
       "</table>\n",
       "<p>5 rows × 32 columns</p>\n",
       "</div>"
      ],
      "text/plain": [
       "   userId churn gender          mean_hours        stdev_hours  \\\n",
       "0      30     0      1  3.5695262464285724  4.828511661476807   \n",
       "1  300001     1      0    7.08366019133987  6.033745302256485   \n",
       "2      91     0      1  19.746496319444457  23.04353070827294   \n",
       "3      92     0      0   4.932186793551587  6.091381883859682   \n",
       "4  200008     0      0   7.609977063703702  7.294883458281476   \n",
       "\n",
       "                 About          Add Friend     Add to Playlist  \\\n",
       "0  0.16901408450704225  1.4084507042253522   2.647887323943662   \n",
       "1  0.04616805170821791  1.3850415512465373  3.1855955678670362   \n",
       "2  0.16589250165892502    1.39349701393497    2.12342402123424   \n",
       "3  0.29045643153526973  1.5214384508990317   2.503457814661134   \n",
       "4  0.44731610337972166   1.341948310139165  2.2365805168986084   \n",
       "\n",
       "             Downgrade                 Error           ...            \\\n",
       "0   0.3380281690140845  0.056338028169014086           ...             \n",
       "1  0.41551246537396125   0.13850415512465375           ...             \n",
       "2   0.7299270072992701   0.09953550099535502           ...             \n",
       "3   0.9405255878284924   0.04149377593360996           ...             \n",
       "4   1.1928429423459244   0.14910536779324055           ...             \n",
       "\n",
       "          Thumbs Down           Thumbs Up               Upgrade  \\\n",
       "0  0.9577464788732395   3.492957746478873    0.7887323943661971   \n",
       "1  0.7848568790397045   6.832871652816251   0.09233610341643582   \n",
       "2  0.7962840079628402    4.11413404114134     0.033178500331785   \n",
       "3  0.9958506224066389  4.0387275242047025   0.06915629322268327   \n",
       "4   2.584493041749503  3.3797216699801194  0.049701789264413515   \n",
       "\n",
       "           mean_songs         stdev_songs num_artists      mean_session_h  \\\n",
       "0  50.607142857142854   68.92579976333879        1019  3.0599045138888887   \n",
       "1  102.88235294117646   88.12908313444346        1202   6.367543859649123   \n",
       "2   286.6666666666667  337.84426885770904        1619              19.665   \n",
       "3   70.77380952380952    86.9796197137792        2905   4.745203488372092   \n",
       "4  111.26666666666667  107.38613016763829        1160  7.5379259259259275   \n",
       "\n",
       "      stdev_session_h num_sessions days_total_subscription  \n",
       "0   4.655638231407505           32       63.06664351851852  \n",
       "1   6.150871757879998           19       188.3117824074074  \n",
       "2  23.019357929090734            9      116.02526620370371  \n",
       "3   6.054084867345142           86       83.52885416666666  \n",
       "4   7.284556907097743           15      115.18381944444444  \n",
       "\n",
       "[5 rows x 32 columns]"
      ]
     },
     "execution_count": 53,
     "metadata": {},
     "output_type": "execute_result"
    }
   ],
   "source": [
    "#loads the CSV file into a Spark DataFrame, converts it to a Pandas DataFrame\n",
    "final_df = spark.read.csv('user_dataset.CSV', header = True)\n",
    "final_1_df = final_df.toPandas()\n",
    "final_1_df.head()"
   ]
  },
  {
   "cell_type": "code",
   "execution_count": 54,
   "metadata": {},
   "outputs": [
    {
     "name": "stdout",
     "output_type": "stream",
     "text": [
      "['userId', 'churn', 'gender', 'mean_hours', 'stdev_hours', 'About', 'Add_Friend', 'Add_to_Playlist', 'Downgrade', 'Error', 'Help', 'Home', 'Login', 'Logout', 'NextSong', 'Register', 'Roll_Advert', 'Save_Settings', 'Settings', 'Submit_Downgrade', 'Submit_Registration', 'Submit_Upgrade', 'Thumbs_Down', 'Thumbs_Up', 'Upgrade', 'mean_songs', 'stdev_songs', 'num_artists', 'mean_session_h', 'stdev_session_h', 'num_sessions', 'days_total_subscription']\n"
     ]
    }
   ],
   "source": [
    "#renames the columns of the final_df DataFrame, replacing whitespace with underscores and removing periods in the column names, and then displays the new column names\n",
    "final_df = final_df.toDF(*(col.replace(' ', '_').replace('.', '') for col in final_df.columns))\n",
    "print(final_df.columns)"
   ]
  },
  {
   "cell_type": "code",
   "execution_count": 55,
   "metadata": {},
   "outputs": [],
   "source": [
    "#converts the 'userId' columns and the first 11 columns of the final_df DataFrame to the IntegerType data type, and the remaining columns (starting with column 12) are converted to the FloatType data type. This is achieved using Spark SQL's withColumn() and cast() function\n",
    "\n",
    "from pyspark.sql.functions import col\n",
    "from pyspark.sql.types import IntegerType, FloatType\n",
    "\n",
    "final_df = final_df.select(\n",
    "    col('userId').cast(IntegerType()),\n",
    "    *[\n",
    "        col(col_name).cast(IntegerType()) if col_name in final_df.columns[1:12]\n",
    "        else col(col_name).cast(FloatType())\n",
    "        for col_name in final_df.columns[1:]\n",
    "    ]\n",
    ")"
   ]
  },
  {
   "cell_type": "code",
   "execution_count": 56,
   "metadata": {},
   "outputs": [],
   "source": [
    "#replace null values (NaN) with the value 0\n",
    "final_df = final_df.fillna(0)"
   ]
  },
  {
   "cell_type": "markdown",
   "metadata": {},
   "source": [
    "# Modeling\n",
    "Split the full dataset into train, test, and validation sets. Test out several of the machine learning methods you learned. Evaluate the accuracy of the various models, tuning parameters as necessary. Determine your winning model based on test accuracy and report results on the validation set. Since the churned users are a fairly small subset, I suggest using F1 score as the metric to optimize."
   ]
  },
  {
   "cell_type": "code",
   "execution_count": 57,
   "metadata": {},
   "outputs": [],
   "source": [
    "#prepares the data for use in a machine learning model by assembling the features, scaling them, and dividing them into training and test sets, 70% of the data is assigned to the training set (train) and 30% of the data to the test set. A seed of 100 is used to guarantee the reproducibility of the division\n",
    "\n",
    "from pyspark.ml.feature import VectorAssembler\n",
    "from pyspark.ml.feature import StandardScaler\n",
    "\n",
    "assembler = VectorAssembler(inputCols=final_df.columns[2:], outputCol='features')\n",
    "assembled_data = assembler.transform(final_df)\n",
    "\n",
    "scaler = StandardScaler(withMean=True, withStd=True, inputCol='features', outputCol='scaled_features')\n",
    "scaled_data = scaler.fit(assembled_data).transform(assembled_data)\n",
    "\n",
    "ml_data = scaled_data.select(scaled_data.churn.alias('label'), scaled_data.scaled_features.alias('features'))\n",
    "\n",
    "train, test = ml_data.randomSplit([0.70, 0.30], seed=100)"
   ]
  },
  {
   "cell_type": "code",
   "execution_count": 58,
   "metadata": {},
   "outputs": [],
   "source": [
    "#performs fit of a machine learning model using cross validation and saves the best fitted model to a specified file\n",
    "\n",
    "from pyspark.ml.tuning import CrossValidator, ParamGridBuilder\n",
    "from pyspark.ml.evaluation import MulticlassClassificationEvaluator\n",
    "from datetime import datetime\n",
    "\n",
    "def model_fitting(data, model_type, param_grid, save_as, num_folds=2, random_seed=100):\n",
    "    model_evaluator = CrossValidator(\n",
    "        estimator=model_type,\n",
    "        estimatorParamMaps=param_grid,\n",
    "        evaluator=MulticlassClassificationEvaluator(),\n",
    "        numFolds=num_folds,\n",
    "        seed=random_seed\n",
    "    )\n",
    "    t_start = datetime.now()\n",
    "    fitted_model = model_evaluator.fit(data)\n",
    "    t_dif = datetime.now() - t_start\n",
    "    t_start = datetime.now()\n",
    "    fitted_model.bestModel.write().overwrite().save(save_as)\n",
    "    t_dif = datetime.now() - t_start\n",
    "    return fitted_model"
   ]
  },
  {
   "cell_type": "markdown",
   "metadata": {},
   "source": [
    "The Logistic Regression model"
   ]
  },
  {
   "cell_type": "code",
   "execution_count": 59,
   "metadata": {},
   "outputs": [],
   "source": [
    "model = LogisticRegression()\n",
    "param_grid = (ParamGridBuilder()\n",
    "              .addGrid(model.regParam, [0.02, 0.2])\n",
    "              .addGrid(model.elasticNetParam, [0.1, 0.4])\n",
    "              .addGrid(model.aggregationDepth, [3, 6])\n",
    "              .build())\n",
    "\n",
    "m = model_fitting(train, model, param_grid, 'LogisticRegression.model')\n"
   ]
  },
  {
   "cell_type": "code",
   "execution_count": 60,
   "metadata": {},
   "outputs": [
    {
     "name": "stdout",
     "output_type": "stream",
     "text": [
      "test\n",
      "Accuracy: 79.17%\n",
      "Precision: 78.37%\n",
      "Recall: 79.17%\n",
      "F1-score: 73.82%\n"
     ]
    }
   ],
   "source": [
    "predictions = m.transform(test)\n",
    "\n",
    "print(\"test\")\n",
    "# Calculate and display the precision of the model\n",
    "evaluator = MulticlassClassificationEvaluator(labelCol=\"label\", predictionCol=\"prediction\", metricName=\"accuracy\")\n",
    "accuracy = evaluator.evaluate(predictions)\n",
    "print(\"Accuracy: {:.2f}%\".format(accuracy * 100))\n",
    "\n",
    "# Calculate and display the accuracy metric\n",
    "evaluator_precision = MulticlassClassificationEvaluator(labelCol=\"label\", predictionCol=\"prediction\", metricName=\"weightedPrecision\")\n",
    "precision = evaluator_precision.evaluate(predictions)\n",
    "print(\"Precision: {:.2f}%\".format(precision * 100))\n",
    "\n",
    "# Calculate and display the recall metric\n",
    "evaluator_recall = MulticlassClassificationEvaluator(labelCol=\"label\", predictionCol=\"prediction\", metricName=\"weightedRecall\")\n",
    "recall = evaluator_recall.evaluate(predictions)\n",
    "print(\"Recall: {:.2f}%\".format(recall * 100))\n",
    "\n",
    "# Calculate and display the F1-score metric\n",
    "evaluator_f1 = MulticlassClassificationEvaluator(labelCol=\"label\", predictionCol=\"prediction\", metricName=\"f1\")\n",
    "f1 = evaluator_f1.evaluate(predictions)\n",
    "print(\"F1-score: {:.2f}%\".format(f1 * 100))"
   ]
  },
  {
   "cell_type": "code",
   "execution_count": 61,
   "metadata": {},
   "outputs": [
    {
     "name": "stdout",
     "output_type": "stream",
     "text": [
      "train\n",
      "Accuracy: 83.66%\n",
      "Precision: 84.97%\n",
      "Recall: 83.66%\n",
      "F1-score: 80.39%\n"
     ]
    }
   ],
   "source": [
    "predictions = m.transform(train)\n",
    "\n",
    "print(\"train\")\n",
    "evaluator = MulticlassClassificationEvaluator(labelCol=\"label\", predictionCol=\"prediction\", metricName=\"accuracy\")\n",
    "accuracy = evaluator.evaluate(predictions)\n",
    "print(\"Accuracy: {:.2f}%\".format(accuracy * 100))\n",
    "\n",
    "evaluator_precision = MulticlassClassificationEvaluator(labelCol=\"label\", predictionCol=\"prediction\", metricName=\"weightedPrecision\")\n",
    "precision = evaluator_precision.evaluate(predictions)\n",
    "print(\"Precision: {:.2f}%\".format(precision * 100))\n",
    "\n",
    "evaluator_recall = MulticlassClassificationEvaluator(labelCol=\"label\", predictionCol=\"prediction\", metricName=\"weightedRecall\")\n",
    "recall = evaluator_recall.evaluate(predictions)\n",
    "print(\"Recall: {:.2f}%\".format(recall * 100))\n",
    "\n",
    "evaluator_f1 = MulticlassClassificationEvaluator(labelCol=\"label\", predictionCol=\"prediction\", metricName=\"f1\")\n",
    "f1 = evaluator_f1.evaluate(predictions)\n",
    "print(\"F1-score: {:.2f}%\".format(f1 * 100))"
   ]
  },
  {
   "cell_type": "markdown",
   "metadata": {},
   "source": [
    "The Decision Tree Classifier model"
   ]
  },
  {
   "cell_type": "code",
   "execution_count": 62,
   "metadata": {
    "scrolled": true
   },
   "outputs": [],
   "source": [
    "#trains a decision tree classifier with different combinations of hyperparameters, saves the trained model, and then returns the classifier-specific evaluation metrics for the training and test sets\n",
    "\n",
    "from pyspark.ml.classification import DecisionTreeClassifier\n",
    "model = DecisionTreeClassifier()\n",
    "param_grid = (ParamGridBuilder()\n",
    "              .addGrid(model.maxDepth, [1, 3, 5])\n",
    "              .addGrid(model.impurity, ['entropy', 'gini'])\n",
    "              .build())\n",
    "\n",
    "m = model_fitting(train, model, param_grid, 'DecisionTreeClassifier.model')"
   ]
  },
  {
   "cell_type": "code",
   "execution_count": 63,
   "metadata": {},
   "outputs": [
    {
     "name": "stdout",
     "output_type": "stream",
     "text": [
      "test\n",
      "Accuracy: 75.00%\n",
      "Precision: 70.05%\n",
      "Recall: 75.00%\n",
      "F1-score: 70.83%\n"
     ]
    }
   ],
   "source": [
    "predictions = m.transform(test)\n",
    "\n",
    "print(\"test\")\n",
    "evaluator = MulticlassClassificationEvaluator(labelCol=\"label\", predictionCol=\"prediction\", metricName=\"accuracy\")\n",
    "accuracy = evaluator.evaluate(predictions)\n",
    "print(\"Accuracy: {:.2f}%\".format(accuracy * 100))\n",
    "\n",
    "evaluator_precision = MulticlassClassificationEvaluator(labelCol=\"label\", predictionCol=\"prediction\", metricName=\"weightedPrecision\")\n",
    "precision = evaluator_precision.evaluate(predictions)\n",
    "print(\"Precision: {:.2f}%\".format(precision * 100))\n",
    "\n",
    "evaluator_recall = MulticlassClassificationEvaluator(labelCol=\"label\", predictionCol=\"prediction\", metricName=\"weightedRecall\")\n",
    "recall = evaluator_recall.evaluate(predictions)\n",
    "print(\"Recall: {:.2f}%\".format(recall * 100))\n",
    "\n",
    "evaluator_f1 = MulticlassClassificationEvaluator(labelCol=\"label\", predictionCol=\"prediction\", metricName=\"f1\")\n",
    "f1 = evaluator_f1.evaluate(predictions)\n",
    "print(\"F1-score: {:.2f}%\".format(f1 * 100))"
   ]
  },
  {
   "cell_type": "code",
   "execution_count": 64,
   "metadata": {},
   "outputs": [
    {
     "name": "stdout",
     "output_type": "stream",
     "text": [
      "train\n",
      "Accuracy: 88.24%\n",
      "Precision: 88.47%\n",
      "Recall: 88.24%\n",
      "F1-score: 87.09%\n"
     ]
    }
   ],
   "source": [
    "predictions = m.transform(train)\n",
    "\n",
    "print(\"train\")\n",
    "evaluator = MulticlassClassificationEvaluator(labelCol=\"label\", predictionCol=\"prediction\", metricName=\"accuracy\")\n",
    "accuracy = evaluator.evaluate(predictions)\n",
    "print(\"Accuracy: {:.2f}%\".format(accuracy * 100))\n",
    "\n",
    "evaluator_precision = MulticlassClassificationEvaluator(labelCol=\"label\", predictionCol=\"prediction\", metricName=\"weightedPrecision\")\n",
    "precision = evaluator_precision.evaluate(predictions)\n",
    "print(\"Precision: {:.2f}%\".format(precision * 100))\n",
    "\n",
    "evaluator_recall = MulticlassClassificationEvaluator(labelCol=\"label\", predictionCol=\"prediction\", metricName=\"weightedRecall\")\n",
    "recall = evaluator_recall.evaluate(predictions)\n",
    "print(\"Recall: {:.2f}%\".format(recall * 100))\n",
    "\n",
    "evaluator_f1 = MulticlassClassificationEvaluator(labelCol=\"label\", predictionCol=\"prediction\", metricName=\"f1\")\n",
    "f1 = evaluator_f1.evaluate(predictions)\n",
    "print(\"F1-score: {:.2f}%\".format(f1 * 100))"
   ]
  },
  {
   "cell_type": "markdown",
   "metadata": {},
   "source": [
    "The Gradient-Boosted Trees (GBTs) model"
   ]
  },
  {
   "cell_type": "code",
   "execution_count": 65,
   "metadata": {},
   "outputs": [],
   "source": [
    "#trains a Gradient Boosted Trees (GBT) classifier with different combinations of hyperparameters, saves the trained model, and displays classifier-specific evaluation metrics for the training and test sets\n",
    "\n",
    "model = GBTClassifier()\n",
    "param_grid = ParamGridBuilder() \\\n",
    "    .addGrid(model.maxDepth, [1, 3, 5]) \\\n",
    "    .addGrid(model.maxBins, [4, 2]) \\\n",
    "    .addGrid(model.maxIter, [6, 2]) \\\n",
    "    .build()\n",
    "\n",
    "m = model_fitting(train, model, param_grid, 'GradientBoostedTrees.model')"
   ]
  },
  {
   "cell_type": "code",
   "execution_count": 66,
   "metadata": {},
   "outputs": [
    {
     "name": "stdout",
     "output_type": "stream",
     "text": [
      "test\n",
      "Accuracy: 81.94%\n",
      "Precision: 82.18%\n",
      "Recall: 81.94%\n",
      "F1-score: 78.45%\n"
     ]
    }
   ],
   "source": [
    "predictions = m.transform(test)\n",
    "\n",
    "print(\"test\")\n",
    "evaluator = MulticlassClassificationEvaluator(labelCol=\"label\", predictionCol=\"prediction\", metricName=\"accuracy\")\n",
    "accuracy = evaluator.evaluate(predictions)\n",
    "print(\"Accuracy: {:.2f}%\".format(accuracy * 100))\n",
    "\n",
    "evaluator_precision = MulticlassClassificationEvaluator(labelCol=\"label\", predictionCol=\"prediction\", metricName=\"weightedPrecision\")\n",
    "precision = evaluator_precision.evaluate(predictions)\n",
    "print(\"Precision: {:.2f}%\".format(precision * 100))\n",
    "\n",
    "evaluator_recall = MulticlassClassificationEvaluator(labelCol=\"label\", predictionCol=\"prediction\", metricName=\"weightedRecall\")\n",
    "recall = evaluator_recall.evaluate(predictions)\n",
    "print(\"Recall: {:.2f}%\".format(recall * 100))\n",
    "\n",
    "evaluator_f1 = MulticlassClassificationEvaluator(labelCol=\"label\", predictionCol=\"prediction\", metricName=\"f1\")\n",
    "f1 = evaluator_f1.evaluate(predictions)\n",
    "print(\"F1-score: {:.2f}%\".format(f1 * 100))"
   ]
  },
  {
   "cell_type": "code",
   "execution_count": 67,
   "metadata": {},
   "outputs": [
    {
     "name": "stdout",
     "output_type": "stream",
     "text": [
      "train\n",
      "Accuracy: 81.05%\n",
      "Precision: 79.59%\n",
      "Recall: 81.05%\n",
      "F1-score: 77.76%\n"
     ]
    }
   ],
   "source": [
    "predictions = m.transform(train)\n",
    "\n",
    "print(\"train\")\n",
    "evaluator = MulticlassClassificationEvaluator(labelCol=\"label\", predictionCol=\"prediction\", metricName=\"accuracy\")\n",
    "accuracy = evaluator.evaluate(predictions)\n",
    "print(\"Accuracy: {:.2f}%\".format(accuracy * 100))\n",
    "\n",
    "evaluator_precision = MulticlassClassificationEvaluator(labelCol=\"label\", predictionCol=\"prediction\", metricName=\"weightedPrecision\")\n",
    "precision = evaluator_precision.evaluate(predictions)\n",
    "print(\"Precision: {:.2f}%\".format(precision * 100))\n",
    "\n",
    "evaluator_recall = MulticlassClassificationEvaluator(labelCol=\"label\", predictionCol=\"prediction\", metricName=\"weightedRecall\")\n",
    "recall = evaluator_recall.evaluate(predictions)\n",
    "print(\"Recall: {:.2f}%\".format(recall * 100))\n",
    "\n",
    "evaluator_f1 = MulticlassClassificationEvaluator(labelCol=\"label\", predictionCol=\"prediction\", metricName=\"f1\")\n",
    "f1 = evaluator_f1.evaluate(predictions)\n",
    "print(\"F1-score: {:.2f}%\".format(f1 * 100))"
   ]
  },
  {
   "cell_type": "markdown",
   "metadata": {},
   "source": [
    "Random Forest model"
   ]
  },
  {
   "cell_type": "code",
   "execution_count": 68,
   "metadata": {
    "scrolled": true
   },
   "outputs": [],
   "source": [
    "#finds the best combination of hyperparameters for the RandomForestClassifier classifier using the cross-validation technique with the default number of folds \n",
    "\n",
    "model = RandomForestClassifier()\n",
    "param_grid = ParamGridBuilder() \\\n",
    "    .addGrid(model.maxDepth, [1, 3]) \\\n",
    "    .addGrid(model.impurity, ['entropy', 'gini']) \\\n",
    "    .addGrid(model.maxBins, [4, 2]) \\\n",
    "    .addGrid(model.numTrees, [6, 2]) \\\n",
    "    .addGrid(model.featureSubsetStrategy, ['sqrt', 'onethird']) \\\n",
    "    .build()\n",
    "\n",
    "m = model_fitting(train, model, param_grid, 'RandomForestClassifier.model')"
   ]
  },
  {
   "cell_type": "code",
   "execution_count": 69,
   "metadata": {},
   "outputs": [
    {
     "name": "stdout",
     "output_type": "stream",
     "text": [
      "test\n",
      "Accuracy: 77.78%\n",
      "Precision: 74.96%\n",
      "Recall: 77.78%\n",
      "F1-score: 75.11%\n"
     ]
    }
   ],
   "source": [
    "predictions = m.transform(test)\n",
    "\n",
    "print(\"test\")\n",
    "evaluator = MulticlassClassificationEvaluator(labelCol=\"label\", predictionCol=\"prediction\", metricName=\"accuracy\")\n",
    "accuracy = evaluator.evaluate(predictions)\n",
    "print(\"Accuracy: {:.2f}%\".format(accuracy * 100))\n",
    "\n",
    "evaluator_precision = MulticlassClassificationEvaluator(labelCol=\"label\", predictionCol=\"prediction\", metricName=\"weightedPrecision\")\n",
    "precision = evaluator_precision.evaluate(predictions)\n",
    "print(\"Precision: {:.2f}%\".format(precision * 100))\n",
    "\n",
    "evaluator_recall = MulticlassClassificationEvaluator(labelCol=\"label\", predictionCol=\"prediction\", metricName=\"weightedRecall\")\n",
    "recall = evaluator_recall.evaluate(predictions)\n",
    "print(\"Recall: {:.2f}%\".format(recall * 100))\n",
    "\n",
    "evaluator_f1 = MulticlassClassificationEvaluator(labelCol=\"label\", predictionCol=\"prediction\", metricName=\"f1\")\n",
    "f1 = evaluator_f1.evaluate(predictions)\n",
    "print(\"F1-score: {:.2f}%\".format(f1 * 100))"
   ]
  },
  {
   "cell_type": "code",
   "execution_count": 70,
   "metadata": {},
   "outputs": [
    {
     "name": "stdout",
     "output_type": "stream",
     "text": [
      "train\n",
      "Accuracy: 83.01%\n",
      "Precision: 81.89%\n",
      "Recall: 83.01%\n",
      "F1-score: 81.03%\n"
     ]
    }
   ],
   "source": [
    "predictions = m.transform(train)\n",
    "\n",
    "print(\"train\")\n",
    "evaluator = MulticlassClassificationEvaluator(labelCol=\"label\", predictionCol=\"prediction\", metricName=\"accuracy\")\n",
    "accuracy = evaluator.evaluate(predictions)\n",
    "print(\"Accuracy: {:.2f}%\".format(accuracy * 100))\n",
    "\n",
    "evaluator_precision = MulticlassClassificationEvaluator(labelCol=\"label\", predictionCol=\"prediction\", metricName=\"weightedPrecision\")\n",
    "precision = evaluator_precision.evaluate(predictions)\n",
    "print(\"Precision: {:.2f}%\".format(precision * 100))\n",
    "\n",
    "evaluator_recall = MulticlassClassificationEvaluator(labelCol=\"label\", predictionCol=\"prediction\", metricName=\"weightedRecall\")\n",
    "recall = evaluator_recall.evaluate(predictions)\n",
    "print(\"Recall: {:.2f}%\".format(recall * 100))\n",
    "\n",
    "evaluator_f1 = MulticlassClassificationEvaluator(labelCol=\"label\", predictionCol=\"prediction\", metricName=\"f1\")\n",
    "f1 = evaluator_f1.evaluate(predictions)\n",
    "print(\"F1-score: {:.2f}%\".format(f1 * 100))"
   ]
  },
  {
   "cell_type": "markdown",
   "metadata": {},
   "source": [
    "# Final Steps\n",
    "Clean up your code, adding comments and renaming variables to make the code easier to read and maintain. Refer to the Spark Project Overview page and Data Scientist Capstone Project Rubric to make sure you are including all components of the capstone project and meet all expectations. Remember, this includes thorough documentation in a README file in a Github repository, as well as a web app or blog post."
   ]
  },
  {
   "cell_type": "code",
   "execution_count": null,
   "metadata": {},
   "outputs": [],
   "source": []
  }
 ],
 "metadata": {
  "kernelspec": {
   "display_name": "Python 3",
   "language": "python",
   "name": "python3"
  },
  "language_info": {
   "codemirror_mode": {
    "name": "ipython",
    "version": 3
   },
   "file_extension": ".py",
   "mimetype": "text/x-python",
   "name": "python",
   "nbconvert_exporter": "python",
   "pygments_lexer": "ipython3",
   "version": "3.6.3"
  }
 },
 "nbformat": 4,
 "nbformat_minor": 2
}
